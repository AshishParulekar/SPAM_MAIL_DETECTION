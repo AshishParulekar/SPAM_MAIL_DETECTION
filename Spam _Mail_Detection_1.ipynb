{
 "cells": [
  {
   "cell_type": "code",
   "execution_count": 1,
   "id": "531bcb30",
   "metadata": {},
   "outputs": [
    {
     "name": "stderr",
     "output_type": "stream",
     "text": [
      "[nltk_data] Downloading package punkt to\n",
      "[nltk_data]     C:\\Users\\Ashish_Parulekar\\AppData\\Roaming\\nltk_data...\n",
      "[nltk_data]   Package punkt is already up-to-date!\n",
      "[nltk_data] Downloading package stopwords to\n",
      "[nltk_data]     C:\\Users\\Ashish_Parulekar\\AppData\\Roaming\\nltk_data...\n",
      "[nltk_data]   Package stopwords is already up-to-date!\n",
      "[nltk_data] Downloading package wordnet to\n",
      "[nltk_data]     C:\\Users\\Ashish_Parulekar\\AppData\\Roaming\\nltk_data...\n",
      "[nltk_data]   Package wordnet is already up-to-date!\n"
     ]
    }
   ],
   "source": [
    "import pandas as pd\n",
    "from nltk.tokenize import word_tokenize\n",
    "import nltk\n",
    "nltk.download('punkt')\n",
    "from nltk.corpus import stopwords\n",
    "nltk.download('stopwords')\n",
    "nltk.download('wordnet')\n",
    "import string\n",
    "from nltk.stem import PorterStemmer\n",
    "from nltk.stem import WordNetLemmatizer\n",
    "from sklearn.feature_extraction.text import CountVectorizer,TfidfVectorizer\n",
    "import numpy as np\n",
    "from sklearn.model_selection import train_test_split\n",
    "import warnings\n",
    "warnings.filterwarnings('ignore')"
   ]
  },
  {
   "cell_type": "code",
   "execution_count": 2,
   "id": "ab203552",
   "metadata": {},
   "outputs": [],
   "source": [
    "Data=pd.read_csv('spam_ham_dataset_Combine.csv',encoding='ISO-8859-1')"
   ]
  },
  {
   "cell_type": "code",
   "execution_count": 3,
   "id": "a8f1bf7a",
   "metadata": {},
   "outputs": [
    {
     "data": {
      "text/html": [
       "<div>\n",
       "<style scoped>\n",
       "    .dataframe tbody tr th:only-of-type {\n",
       "        vertical-align: middle;\n",
       "    }\n",
       "\n",
       "    .dataframe tbody tr th {\n",
       "        vertical-align: top;\n",
       "    }\n",
       "\n",
       "    .dataframe thead th {\n",
       "        text-align: right;\n",
       "    }\n",
       "</style>\n",
       "<table border=\"1\" class=\"dataframe\">\n",
       "  <thead>\n",
       "    <tr style=\"text-align: right;\">\n",
       "      <th></th>\n",
       "      <th>Unnamed: 0</th>\n",
       "      <th>label</th>\n",
       "      <th>text</th>\n",
       "      <th>label_num</th>\n",
       "    </tr>\n",
       "  </thead>\n",
       "  <tbody>\n",
       "    <tr>\n",
       "      <th>0</th>\n",
       "      <td>605.0</td>\n",
       "      <td>ham</td>\n",
       "      <td>Subject: enron methanol ; meter # : 988291\\r\\n...</td>\n",
       "      <td>0.0</td>\n",
       "    </tr>\n",
       "    <tr>\n",
       "      <th>1</th>\n",
       "      <td>2349.0</td>\n",
       "      <td>ham</td>\n",
       "      <td>Subject: hpl nom for january 9 , 2001\\r\\n( see...</td>\n",
       "      <td>0.0</td>\n",
       "    </tr>\n",
       "    <tr>\n",
       "      <th>2</th>\n",
       "      <td>3624.0</td>\n",
       "      <td>ham</td>\n",
       "      <td>Subject: neon retreat\\r\\nho ho ho , we ' re ar...</td>\n",
       "      <td>0.0</td>\n",
       "    </tr>\n",
       "    <tr>\n",
       "      <th>3</th>\n",
       "      <td>4685.0</td>\n",
       "      <td>spam</td>\n",
       "      <td>Subject: photoshop , windows , office . cheap ...</td>\n",
       "      <td>1.0</td>\n",
       "    </tr>\n",
       "    <tr>\n",
       "      <th>4</th>\n",
       "      <td>2030.0</td>\n",
       "      <td>ham</td>\n",
       "      <td>Subject: re : indian springs\\r\\nthis deal is t...</td>\n",
       "      <td>0.0</td>\n",
       "    </tr>\n",
       "  </tbody>\n",
       "</table>\n",
       "</div>"
      ],
      "text/plain": [
       "   Unnamed: 0 label                                               text  \\\n",
       "0       605.0   ham  Subject: enron methanol ; meter # : 988291\\r\\n...   \n",
       "1      2349.0   ham  Subject: hpl nom for january 9 , 2001\\r\\n( see...   \n",
       "2      3624.0   ham  Subject: neon retreat\\r\\nho ho ho , we ' re ar...   \n",
       "3      4685.0  spam  Subject: photoshop , windows , office . cheap ...   \n",
       "4      2030.0   ham  Subject: re : indian springs\\r\\nthis deal is t...   \n",
       "\n",
       "   label_num  \n",
       "0        0.0  \n",
       "1        0.0  \n",
       "2        0.0  \n",
       "3        1.0  \n",
       "4        0.0  "
      ]
     },
     "execution_count": 3,
     "metadata": {},
     "output_type": "execute_result"
    }
   ],
   "source": [
    "Data.head(5)"
   ]
  },
  {
   "cell_type": "code",
   "execution_count": 4,
   "id": "aa26fa1e",
   "metadata": {},
   "outputs": [],
   "source": [
    "Data.rename(columns={'label':'Target','text':'Messeges'},inplace=True)"
   ]
  },
  {
   "cell_type": "code",
   "execution_count": 5,
   "id": "262e06ca",
   "metadata": {},
   "outputs": [],
   "source": [
    "Data=Data[['Target','Messeges']]"
   ]
  },
  {
   "cell_type": "code",
   "execution_count": 6,
   "id": "4c25611e",
   "metadata": {},
   "outputs": [],
   "source": [
    "Data['Target'].replace({'ham':'not spam'},inplace=True)"
   ]
  },
  {
   "cell_type": "code",
   "execution_count": 7,
   "id": "12a928e4",
   "metadata": {},
   "outputs": [
    {
     "data": {
      "text/html": [
       "<div>\n",
       "<style scoped>\n",
       "    .dataframe tbody tr th:only-of-type {\n",
       "        vertical-align: middle;\n",
       "    }\n",
       "\n",
       "    .dataframe tbody tr th {\n",
       "        vertical-align: top;\n",
       "    }\n",
       "\n",
       "    .dataframe thead th {\n",
       "        text-align: right;\n",
       "    }\n",
       "</style>\n",
       "<table border=\"1\" class=\"dataframe\">\n",
       "  <thead>\n",
       "    <tr style=\"text-align: right;\">\n",
       "      <th></th>\n",
       "      <th>Target</th>\n",
       "      <th>Messeges</th>\n",
       "    </tr>\n",
       "  </thead>\n",
       "  <tbody>\n",
       "    <tr>\n",
       "      <th>0</th>\n",
       "      <td>not spam</td>\n",
       "      <td>Subject: enron methanol ; meter # : 988291\\r\\n...</td>\n",
       "    </tr>\n",
       "    <tr>\n",
       "      <th>1</th>\n",
       "      <td>not spam</td>\n",
       "      <td>Subject: hpl nom for january 9 , 2001\\r\\n( see...</td>\n",
       "    </tr>\n",
       "    <tr>\n",
       "      <th>2</th>\n",
       "      <td>not spam</td>\n",
       "      <td>Subject: neon retreat\\r\\nho ho ho , we ' re ar...</td>\n",
       "    </tr>\n",
       "    <tr>\n",
       "      <th>3</th>\n",
       "      <td>spam</td>\n",
       "      <td>Subject: photoshop , windows , office . cheap ...</td>\n",
       "    </tr>\n",
       "    <tr>\n",
       "      <th>4</th>\n",
       "      <td>not spam</td>\n",
       "      <td>Subject: re : indian springs\\r\\nthis deal is t...</td>\n",
       "    </tr>\n",
       "  </tbody>\n",
       "</table>\n",
       "</div>"
      ],
      "text/plain": [
       "     Target                                           Messeges\n",
       "0  not spam  Subject: enron methanol ; meter # : 988291\\r\\n...\n",
       "1  not spam  Subject: hpl nom for january 9 , 2001\\r\\n( see...\n",
       "2  not spam  Subject: neon retreat\\r\\nho ho ho , we ' re ar...\n",
       "3      spam  Subject: photoshop , windows , office . cheap ...\n",
       "4  not spam  Subject: re : indian springs\\r\\nthis deal is t..."
      ]
     },
     "execution_count": 7,
     "metadata": {},
     "output_type": "execute_result"
    }
   ],
   "source": [
    "Data.head(5)"
   ]
  },
  {
   "cell_type": "code",
   "execution_count": 8,
   "id": "01765789",
   "metadata": {
    "scrolled": true
   },
   "outputs": [
    {
     "data": {
      "text/html": [
       "<div>\n",
       "<style scoped>\n",
       "    .dataframe tbody tr th:only-of-type {\n",
       "        vertical-align: middle;\n",
       "    }\n",
       "\n",
       "    .dataframe tbody tr th {\n",
       "        vertical-align: top;\n",
       "    }\n",
       "\n",
       "    .dataframe thead th {\n",
       "        text-align: right;\n",
       "    }\n",
       "</style>\n",
       "<table border=\"1\" class=\"dataframe\">\n",
       "  <thead>\n",
       "    <tr style=\"text-align: right;\">\n",
       "      <th></th>\n",
       "      <th>Target</th>\n",
       "      <th>Messeges</th>\n",
       "    </tr>\n",
       "  </thead>\n",
       "  <tbody>\n",
       "    <tr>\n",
       "      <th>10745</th>\n",
       "      <td>spam</td>\n",
       "      <td>Best Exciting Offers On Home &amp; kitchen | Get ...</td>\n",
       "    </tr>\n",
       "    <tr>\n",
       "      <th>10746</th>\n",
       "      <td>spam</td>\n",
       "      <td>Spin the Wheel, get a SURPRISE!</td>\n",
       "    </tr>\n",
       "    <tr>\n",
       "      <th>10747</th>\n",
       "      <td>spam</td>\n",
       "      <td>Cookware &amp; Dining | Up To 70% OFF</td>\n",
       "    </tr>\n",
       "    <tr>\n",
       "      <th>10748</th>\n",
       "      <td>spam</td>\n",
       "      <td>Are you looking to diversify your portfolio to...</td>\n",
       "    </tr>\n",
       "    <tr>\n",
       "      <th>10749</th>\n",
       "      <td>spam</td>\n",
       "      <td>Dont Miss Indias Biggest Fashion Sale!</td>\n",
       "    </tr>\n",
       "  </tbody>\n",
       "</table>\n",
       "</div>"
      ],
      "text/plain": [
       "      Target                                           Messeges\n",
       "10745   spam   Best Exciting Offers On Home & kitchen | Get ...\n",
       "10746   spam                    Spin the Wheel, get a SURPRISE!\n",
       "10747   spam                  Cookware & Dining | Up To 70% OFF\n",
       "10748   spam  Are you looking to diversify your portfolio to...\n",
       "10749   spam           Dont Miss Indias Biggest Fashion Sale!"
      ]
     },
     "execution_count": 8,
     "metadata": {},
     "output_type": "execute_result"
    }
   ],
   "source": [
    "Data.tail(5)"
   ]
  },
  {
   "cell_type": "markdown",
   "id": "ebd03daa",
   "metadata": {},
   "source": [
    "# To check duplicate"
   ]
  },
  {
   "cell_type": "code",
   "execution_count": 9,
   "id": "6fedbe2a",
   "metadata": {},
   "outputs": [
    {
     "name": "stdout",
     "output_type": "stream",
     "text": [
      "Data is haveing :- 581 duplicate values\n"
     ]
    }
   ],
   "source": [
    "duplicate=Data.duplicated().sum()\n",
    "print('Data is haveing :-' ,duplicate,'duplicate values')"
   ]
  },
  {
   "cell_type": "code",
   "execution_count": 10,
   "id": "cecd1496",
   "metadata": {},
   "outputs": [
    {
     "data": {
      "text/plain": [
       "(10750, 2)"
      ]
     },
     "execution_count": 10,
     "metadata": {},
     "output_type": "execute_result"
    }
   ],
   "source": [
    "Data.shape"
   ]
  },
  {
   "cell_type": "markdown",
   "id": "06b5469a",
   "metadata": {},
   "source": [
    "# Remove Duplicate Rows"
   ]
  },
  {
   "cell_type": "code",
   "execution_count": 11,
   "id": "c5407ea3",
   "metadata": {},
   "outputs": [
    {
     "name": "stdout",
     "output_type": "stream",
     "text": [
      "Data is haveing :- 0 duplicate values\n"
     ]
    }
   ],
   "source": [
    "Data.drop_duplicates(inplace=True,keep='first')\n",
    "duplicate=Data.duplicated().sum()\n",
    "print('Data is haveing :-' ,duplicate,'duplicate values')"
   ]
  },
  {
   "cell_type": "code",
   "execution_count": 12,
   "id": "d1856f03",
   "metadata": {},
   "outputs": [
    {
     "data": {
      "text/plain": [
       "(10169, 2)"
      ]
     },
     "execution_count": 12,
     "metadata": {},
     "output_type": "execute_result"
    }
   ],
   "source": [
    "Data.shape"
   ]
  },
  {
   "cell_type": "markdown",
   "id": "4c53d480",
   "metadata": {},
   "source": [
    "# MissingValue in Data"
   ]
  },
  {
   "cell_type": "code",
   "execution_count": 13,
   "id": "e0ab47c6",
   "metadata": {},
   "outputs": [
    {
     "data": {
      "text/plain": [
       "Target      1\n",
       "Messeges    1\n",
       "dtype: int64"
      ]
     },
     "execution_count": 13,
     "metadata": {},
     "output_type": "execute_result"
    }
   ],
   "source": [
    "Data.isnull().sum()"
   ]
  },
  {
   "cell_type": "code",
   "execution_count": 14,
   "id": "337667e1",
   "metadata": {},
   "outputs": [],
   "source": [
    "Data.dropna(inplace=True)"
   ]
  },
  {
   "cell_type": "code",
   "execution_count": 15,
   "id": "292a0203",
   "metadata": {},
   "outputs": [
    {
     "data": {
      "text/plain": [
       "Target      0\n",
       "Messeges    0\n",
       "dtype: int64"
      ]
     },
     "execution_count": 15,
     "metadata": {},
     "output_type": "execute_result"
    }
   ],
   "source": [
    "Data.isnull().sum()"
   ]
  },
  {
   "cell_type": "markdown",
   "id": "ffb7d910",
   "metadata": {},
   "source": [
    "# Encoding_Target_column"
   ]
  },
  {
   "cell_type": "code",
   "execution_count": 16,
   "id": "6a1b76c8",
   "metadata": {},
   "outputs": [],
   "source": [
    "\"0='not_spam'\"\n",
    "\"1='spam'\"\n",
    "\n",
    "Data['Target'].replace({'spam':1,'not spam':0},inplace=True)"
   ]
  },
  {
   "cell_type": "code",
   "execution_count": 17,
   "id": "2d572f2d",
   "metadata": {},
   "outputs": [
    {
     "data": {
      "text/html": [
       "<div>\n",
       "<style scoped>\n",
       "    .dataframe tbody tr th:only-of-type {\n",
       "        vertical-align: middle;\n",
       "    }\n",
       "\n",
       "    .dataframe tbody tr th {\n",
       "        vertical-align: top;\n",
       "    }\n",
       "\n",
       "    .dataframe thead th {\n",
       "        text-align: right;\n",
       "    }\n",
       "</style>\n",
       "<table border=\"1\" class=\"dataframe\">\n",
       "  <thead>\n",
       "    <tr style=\"text-align: right;\">\n",
       "      <th></th>\n",
       "      <th>Target</th>\n",
       "      <th>Messeges</th>\n",
       "    </tr>\n",
       "  </thead>\n",
       "  <tbody>\n",
       "    <tr>\n",
       "      <th>0</th>\n",
       "      <td>0</td>\n",
       "      <td>Subject: enron methanol ; meter # : 988291\\r\\n...</td>\n",
       "    </tr>\n",
       "    <tr>\n",
       "      <th>1</th>\n",
       "      <td>0</td>\n",
       "      <td>Subject: hpl nom for january 9 , 2001\\r\\n( see...</td>\n",
       "    </tr>\n",
       "    <tr>\n",
       "      <th>2</th>\n",
       "      <td>0</td>\n",
       "      <td>Subject: neon retreat\\r\\nho ho ho , we ' re ar...</td>\n",
       "    </tr>\n",
       "    <tr>\n",
       "      <th>3</th>\n",
       "      <td>1</td>\n",
       "      <td>Subject: photoshop , windows , office . cheap ...</td>\n",
       "    </tr>\n",
       "    <tr>\n",
       "      <th>4</th>\n",
       "      <td>0</td>\n",
       "      <td>Subject: re : indian springs\\r\\nthis deal is t...</td>\n",
       "    </tr>\n",
       "    <tr>\n",
       "      <th>5</th>\n",
       "      <td>0</td>\n",
       "      <td>Subject: ehronline web address change\\r\\nthis ...</td>\n",
       "    </tr>\n",
       "    <tr>\n",
       "      <th>6</th>\n",
       "      <td>0</td>\n",
       "      <td>Subject: spring savings certificate - take 30 ...</td>\n",
       "    </tr>\n",
       "    <tr>\n",
       "      <th>7</th>\n",
       "      <td>1</td>\n",
       "      <td>Subject: looking for medication ? we ` re the ...</td>\n",
       "    </tr>\n",
       "    <tr>\n",
       "      <th>8</th>\n",
       "      <td>0</td>\n",
       "      <td>Subject: noms / actual flow for 2 / 26\\r\\nwe a...</td>\n",
       "    </tr>\n",
       "    <tr>\n",
       "      <th>9</th>\n",
       "      <td>0</td>\n",
       "      <td>Subject: nominations for oct . 21 - 23 , 2000\\...</td>\n",
       "    </tr>\n",
       "  </tbody>\n",
       "</table>\n",
       "</div>"
      ],
      "text/plain": [
       "   Target                                           Messeges\n",
       "0       0  Subject: enron methanol ; meter # : 988291\\r\\n...\n",
       "1       0  Subject: hpl nom for january 9 , 2001\\r\\n( see...\n",
       "2       0  Subject: neon retreat\\r\\nho ho ho , we ' re ar...\n",
       "3       1  Subject: photoshop , windows , office . cheap ...\n",
       "4       0  Subject: re : indian springs\\r\\nthis deal is t...\n",
       "5       0  Subject: ehronline web address change\\r\\nthis ...\n",
       "6       0  Subject: spring savings certificate - take 30 ...\n",
       "7       1  Subject: looking for medication ? we ` re the ...\n",
       "8       0  Subject: noms / actual flow for 2 / 26\\r\\nwe a...\n",
       "9       0  Subject: nominations for oct . 21 - 23 , 2000\\..."
      ]
     },
     "execution_count": 17,
     "metadata": {},
     "output_type": "execute_result"
    }
   ],
   "source": [
    "Data.head(10)"
   ]
  },
  {
   "cell_type": "code",
   "execution_count": 18,
   "id": "73b92e5e",
   "metadata": {},
   "outputs": [],
   "source": [
    "stop_words=set(stopwords.words('english'))\n",
    "poctuation=string.punctuation"
   ]
  },
  {
   "cell_type": "code",
   "execution_count": 19,
   "id": "12945961",
   "metadata": {},
   "outputs": [],
   "source": [
    "def Text_processing(text):\n",
    "    process_text=[]\n",
    "    tk=nltk.word_tokenize(text)\n",
    "    stop_words=set(stopwords.words('english'))\n",
    "    for i in tk:\n",
    "        i=i.lower()\n",
    "        if ((i not in stop_words) & (i not in string.punctuation)):\n",
    "            la=WordNetLemmatizer()\n",
    "            i=la.lemmatize(i)\n",
    "            process_text.append(i)\n",
    "    return  process_text\n",
    "            \n",
    "            \n",
    "    \n",
    "    "
   ]
  },
  {
   "cell_type": "code",
   "execution_count": 20,
   "id": "7b75e254",
   "metadata": {},
   "outputs": [],
   "source": [
    "Data['Processed_Text']=Data['Messeges'].apply(Text_processing)"
   ]
  },
  {
   "cell_type": "code",
   "execution_count": 21,
   "id": "414f49f0",
   "metadata": {},
   "outputs": [],
   "source": [
    "Data['Processed_Text']=Data['Processed_Text'].apply(lambda x:' '.join(x))"
   ]
  },
  {
   "cell_type": "code",
   "execution_count": 22,
   "id": "83a24192",
   "metadata": {},
   "outputs": [
    {
     "data": {
      "text/html": [
       "<div>\n",
       "<style scoped>\n",
       "    .dataframe tbody tr th:only-of-type {\n",
       "        vertical-align: middle;\n",
       "    }\n",
       "\n",
       "    .dataframe tbody tr th {\n",
       "        vertical-align: top;\n",
       "    }\n",
       "\n",
       "    .dataframe thead th {\n",
       "        text-align: right;\n",
       "    }\n",
       "</style>\n",
       "<table border=\"1\" class=\"dataframe\">\n",
       "  <thead>\n",
       "    <tr style=\"text-align: right;\">\n",
       "      <th></th>\n",
       "      <th>Target</th>\n",
       "      <th>Messeges</th>\n",
       "      <th>Processed_Text</th>\n",
       "    </tr>\n",
       "  </thead>\n",
       "  <tbody>\n",
       "    <tr>\n",
       "      <th>0</th>\n",
       "      <td>0</td>\n",
       "      <td>Subject: enron methanol ; meter # : 988291\\r\\n...</td>\n",
       "      <td>subject enron methanol meter 988291 follow not...</td>\n",
       "    </tr>\n",
       "    <tr>\n",
       "      <th>1</th>\n",
       "      <td>0</td>\n",
       "      <td>Subject: hpl nom for january 9 , 2001\\r\\n( see...</td>\n",
       "      <td>subject hpl nom january 9 2001 see attached fi...</td>\n",
       "    </tr>\n",
       "    <tr>\n",
       "      <th>2</th>\n",
       "      <td>0</td>\n",
       "      <td>Subject: neon retreat\\r\\nho ho ho , we ' re ar...</td>\n",
       "      <td>subject neon retreat ho ho ho around wonderful...</td>\n",
       "    </tr>\n",
       "    <tr>\n",
       "      <th>3</th>\n",
       "      <td>1</td>\n",
       "      <td>Subject: photoshop , windows , office . cheap ...</td>\n",
       "      <td>subject photoshop window office cheap main tre...</td>\n",
       "    </tr>\n",
       "    <tr>\n",
       "      <th>4</th>\n",
       "      <td>0</td>\n",
       "      <td>Subject: re : indian springs\\r\\nthis deal is t...</td>\n",
       "      <td>subject indian spring deal book teco pvr reven...</td>\n",
       "    </tr>\n",
       "  </tbody>\n",
       "</table>\n",
       "</div>"
      ],
      "text/plain": [
       "   Target                                           Messeges  \\\n",
       "0       0  Subject: enron methanol ; meter # : 988291\\r\\n...   \n",
       "1       0  Subject: hpl nom for january 9 , 2001\\r\\n( see...   \n",
       "2       0  Subject: neon retreat\\r\\nho ho ho , we ' re ar...   \n",
       "3       1  Subject: photoshop , windows , office . cheap ...   \n",
       "4       0  Subject: re : indian springs\\r\\nthis deal is t...   \n",
       "\n",
       "                                      Processed_Text  \n",
       "0  subject enron methanol meter 988291 follow not...  \n",
       "1  subject hpl nom january 9 2001 see attached fi...  \n",
       "2  subject neon retreat ho ho ho around wonderful...  \n",
       "3  subject photoshop window office cheap main tre...  \n",
       "4  subject indian spring deal book teco pvr reven...  "
      ]
     },
     "execution_count": 22,
     "metadata": {},
     "output_type": "execute_result"
    }
   ],
   "source": [
    "Data.head(5)"
   ]
  },
  {
   "cell_type": "code",
   "execution_count": 23,
   "id": "bde68479",
   "metadata": {},
   "outputs": [
    {
     "data": {
      "text/plain": [
       "(10168, 3)"
      ]
     },
     "execution_count": 23,
     "metadata": {},
     "output_type": "execute_result"
    }
   ],
   "source": [
    "Data.shape"
   ]
  },
  {
   "cell_type": "markdown",
   "id": "f72353b1",
   "metadata": {},
   "source": [
    "# Conver Text in Vector"
   ]
  },
  {
   "cell_type": "markdown",
   "id": "39f4fc7d",
   "metadata": {},
   "source": [
    "# Count_Vectoriztion"
   ]
  },
  {
   "cell_type": "code",
   "execution_count": 24,
   "id": "b856e3a3",
   "metadata": {},
   "outputs": [],
   "source": [
    "Cv=CountVectorizer(stop_words='english',)"
   ]
  },
  {
   "cell_type": "code",
   "execution_count": 25,
   "id": "fb71752a",
   "metadata": {},
   "outputs": [],
   "source": [
    "Cv_text=Cv.fit_transform(Data['Processed_Text']).toarray()"
   ]
  },
  {
   "cell_type": "code",
   "execution_count": 26,
   "id": "10feb0d1",
   "metadata": {},
   "outputs": [
    {
     "data": {
      "text/plain": [
       "{'subject': 44265,\n",
       " 'enron': 19225,\n",
       " 'methanol': 31646,\n",
       " 'meter': 31640,\n",
       " '988291': 5315,\n",
       " 'follow': 21319,\n",
       " 'note': 33893,\n",
       " 'gave': 22245,\n",
       " 'monday': 32340,\n",
       " '00': 0,\n",
       " 'preliminary': 37392,\n",
       " 'flow': 21209,\n",
       " 'data': 15848,\n",
       " 'provided': 37912,\n",
       " 'daren': 15788,\n",
       " 'override': 35189,\n",
       " 'pop': 37013,\n",
       " 'daily': 15689,\n",
       " 'volume': 48675,\n",
       " 'presently': 37456,\n",
       " 'zero': 51072,\n",
       " 'reflect': 39341,\n",
       " 'activity': 5842,\n",
       " 'obtain': 34246,\n",
       " 'gas': 22192,\n",
       " 'control': 14510,\n",
       " 'change': 12550,\n",
       " 'needed': 33275,\n",
       " 'asap': 7909,\n",
       " 'economics': 18422,\n",
       " 'purpose': 38154,\n",
       " 'hpl': 24989,\n",
       " 'nom': 33769,\n",
       " 'january': 27172,\n",
       " '2001': 1463,\n",
       " 'attached': 8194,\n",
       " 'file': 20867,\n",
       " 'hplnol': 24996,\n",
       " '09': 383,\n",
       " 'xl': 50379,\n",
       " 'neon': 33340,\n",
       " 'retreat': 39960,\n",
       " 'ho': 24647,\n",
       " 'wonderful': 49843,\n",
       " 'time': 45929,\n",
       " 'year': 50658,\n",
       " 'leader': 29194,\n",
       " 'know': 28499,\n",
       " 'extremely': 20233,\n",
       " 'hectic': 24156,\n",
       " 'tough': 46324,\n",
       " 'think': 45705,\n",
       " 'past': 35640,\n",
       " 'holiday': 24700,\n",
       " 'life': 29528,\n",
       " 'week': 49229,\n",
       " 'december': 16078,\n",
       " '25': 1770,\n",
       " 'like': 29573,\n",
       " 'minute': 31985,\n",
       " 'calender': 11592,\n",
       " 'handed': 23771,\n",
       " 'beginning': 9304,\n",
       " 'fall': 20381,\n",
       " 'semester': 41743,\n",
       " 'scheduled': 41320,\n",
       " 'weekend': 49232,\n",
       " 'youth': 50852,\n",
       " 'minister': 31956,\n",
       " 'conference': 14175,\n",
       " 'brad': 10599,\n",
       " 'dustin': 18148,\n",
       " 'connected': 14284,\n",
       " 'going': 22917,\n",
       " 'date': 15855,\n",
       " 'following': 21322,\n",
       " '12': 749,\n",
       " '13': 845,\n",
       " 'come': 13801,\n",
       " 'need': 33273,\n",
       " 'agree': 6323,\n",
       " 'important': 25806,\n",
       " 'recharge': 39133,\n",
       " 'battery': 9047,\n",
       " 'far': 20426,\n",
       " 'spring': 43531,\n",
       " 'lot': 30077,\n",
       " 'trouble': 46720,\n",
       " 'difficult': 16960,\n",
       " 'away': 8515,\n",
       " 'kid': 28281,\n",
       " 'came': 11671,\n",
       " 'potential': 37167,\n",
       " 'alternative': 6819,\n",
       " 'let': 29403,\n",
       " 'prefer': 37374,\n",
       " 'option': 34829,\n",
       " 'similar': 42484,\n",
       " 'heartland': 24128,\n",
       " 'country': 14869,\n",
       " 'inn': 26314,\n",
       " 'www': 50166,\n",
       " 'com': 13771,\n",
       " 'outside': 35111,\n",
       " 'brenham': 10760,\n",
       " 'nice': 33535,\n",
       " 'place': 36622,\n",
       " 'bedroom': 9256,\n",
       " 'house': 24951,\n",
       " 'real': 39020,\n",
       " 'relaxing': 39509,\n",
       " 'close': 13399,\n",
       " 'hour': 24947,\n",
       " '15': 1097,\n",
       " 'golf': 22941,\n",
       " 'shop': 42249,\n",
       " 'antique': 7337,\n",
       " 'craft': 15001,\n",
       " 'store': 44029,\n",
       " 'eat': 18343,\n",
       " 'dinner': 17035,\n",
       " 'ranch': 38836,\n",
       " 'spend': 43405,\n",
       " 'meet': 31405,\n",
       " 'saturday': 41190,\n",
       " 'return': 39978,\n",
       " 'sunday': 44443,\n",
       " 'morning': 32492,\n",
       " 'second': 41603,\n",
       " 'stay': 43822,\n",
       " 'houston': 24962,\n",
       " 'restaurant': 39886,\n",
       " 'dessert': 16636,\n",
       " 'visiting': 48510,\n",
       " 'recharging': 39137,\n",
       " 'home': 24741,\n",
       " 'evening': 19819,\n",
       " 'easier': 18322,\n",
       " 'trade': 46399,\n",
       " 'decide': 16085,\n",
       " 'email': 18893,\n",
       " 'preference': 37377,\n",
       " 'course': 14886,\n",
       " 'available': 8429,\n",
       " 'democratic': 16394,\n",
       " 'process': 37652,\n",
       " 'prevail': 37505,\n",
       " 'majority': 30625,\n",
       " 'vote': 48705,\n",
       " 'rule': 40772,\n",
       " 'hear': 24112,\n",
       " 'soon': 43183,\n",
       " 'possible': 37118,\n",
       " 'preferably': 37375,\n",
       " 'end': 19097,\n",
       " 'way': 49110,\n",
       " 'complaining': 13976,\n",
       " 'allowed': 6749,\n",
       " 'tend': 45371,\n",
       " 'great': 23226,\n",
       " 'fishing': 21018,\n",
       " 'shopping': 42254,\n",
       " 'make': 30632,\n",
       " 'happy': 23860,\n",
       " 'bobby': 10251,\n",
       " 'photoshop': 36344,\n",
       " 'window': 49611,\n",
       " 'office': 34393,\n",
       " 'cheap': 12665,\n",
       " 'main': 30602,\n",
       " 'trending': 46602,\n",
       " 'abasement': 5440,\n",
       " 'darer': 15790,\n",
       " 'prudently': 37949,\n",
       " 'fortuitous': 21504,\n",
       " 'undergone': 47366,\n",
       " 'lighthearted': 29560,\n",
       " 'charm': 12616,\n",
       " 'orinoco': 34944,\n",
       " 'taster': 45115,\n",
       " 'railroad': 38782,\n",
       " 'affluent': 6194,\n",
       " 'pornographic': 37055,\n",
       " 'cuvier': 15521,\n",
       " 'irvin': 26854,\n",
       " 'parkhouse': 35547,\n",
       " 'blameworthy': 10012,\n",
       " 'chlorophyll': 12864,\n",
       " 'robed': 40414,\n",
       " 'diagrammatic': 16854,\n",
       " 'fogarty': 21293,\n",
       " 'clear': 13287,\n",
       " 'bayda': 9075,\n",
       " 'inconveniencing': 25984,\n",
       " 'managing': 30714,\n",
       " 'represented': 39727,\n",
       " 'smartness': 42851,\n",
       " 'hashish': 23949,\n",
       " 'academy': 5614,\n",
       " 'shareholder': 42054,\n",
       " 'unload': 47493,\n",
       " 'badness': 8694,\n",
       " 'danielson': 15762,\n",
       " 'pure': 38135,\n",
       " 'caffein': 11540,\n",
       " 'spaniard': 43300,\n",
       " 'chargeable': 12588,\n",
       " 'levin': 29433,\n",
       " 'indian': 26057,\n",
       " 'deal': 16002,\n",
       " 'book': 10365,\n",
       " 'teco': 45265,\n",
       " 'pvr': 38201,\n",
       " 'revenue': 40000,\n",
       " 'understanding': 47380,\n",
       " 'sends': 41767,\n",
       " 'check': 12676,\n",
       " 'received': 39116,\n",
       " 'answer': 7280,\n",
       " 'predermined': 37349,\n",
       " 'price': 37528,\n",
       " 'associated': 8048,\n",
       " 'giving': 22687,\n",
       " 'continue': 14462,\n",
       " 'chase': 12633,\n",
       " 'ehronline': 18642,\n",
       " 'web': 49193,\n",
       " 'address': 5921,\n",
       " 'message': 31609,\n",
       " 'intended': 26485,\n",
       " 'user': 47756,\n",
       " 'recent': 39124,\n",
       " 'url': 47723,\n",
       " 'aka': 6491,\n",
       " 'accessing': 5644,\n",
       " 'changed': 12552,\n",
       " 'computer': 14053,\n",
       " 'involves': 26721,\n",
       " 'adding': 5908,\n",
       " 'letter': 29410,\n",
       " 'http': 25082,\n",
       " 'reference': 39317,\n",
       " 'added': 5901,\n",
       " 'favorite': 20507,\n",
       " 'browser': 10966,\n",
       " 'saving': 41216,\n",
       " 'certificate': 12431,\n",
       " '30': 2066,\n",
       " 'save': 41208,\n",
       " 'use': 47748,\n",
       " 'customer': 15485,\n",
       " 'appreciation': 7536,\n",
       " 'foot': 21369,\n",
       " 'locker': 29896,\n",
       " 'lady': 28848,\n",
       " 'online': 34662,\n",
       " 'welcome': 49274,\n",
       " 'special': 43342,\n",
       " 'receive': 39114,\n",
       " 'purchase': 38129,\n",
       " 'hurry': 25182,\n",
       " 'day': 15895,\n",
       " 'sale': 40994,\n",
       " 'begin': 9301,\n",
       " 'thursday': 45846,\n",
       " 'march': 30823,\n",
       " '22': 1597,\n",
       " 'share': 42049,\n",
       " 'today': 46143,\n",
       " 'mail': 30587,\n",
       " 'offer': 34380,\n",
       " 'friend': 21718,\n",
       " 'item': 26944,\n",
       " 'reduced': 39280,\n",
       " 'discount': 17144,\n",
       " 'taken': 44994,\n",
       " 'lowest': 30142,\n",
       " 'click': 13332,\n",
       " 'print': 37575,\n",
       " 'present': 37450,\n",
       " 'coupon': 14882,\n",
       " 'canada': 11712,\n",
       " 'participating': 35589,\n",
       " 'program': 37737,\n",
       " 'ready': 39014,\n",
       " 'set': 41887,\n",
       " 'automatically': 8389,\n",
       " 'appear': 7472,\n",
       " 'link': 29646,\n",
       " 'type': 47057,\n",
       " 'camlem': 11686,\n",
       " '21': 1545,\n",
       " 'promotion': 37789,\n",
       " 'code': 13593,\n",
       " 'box': 10516,\n",
       " 'checkout': 12689,\n",
       " 'footlocker': 21377,\n",
       " 'ladyfootlocker': 28850,\n",
       " 'kidsfootlocker': 28287,\n",
       " 'remember': 39569,\n",
       " 'hassle': 23953,\n",
       " 'free': 21647,\n",
       " 'simply': 42511,\n",
       " 'bring': 10850,\n",
       " 'nationwide': 33128,\n",
       " 'left': 29277,\n",
       " 'register': 39411,\n",
       " 'learn': 29219,\n",
       " 'new': 33424,\n",
       " 'product': 37678,\n",
       " 'event': 19822,\n",
       " 'term': 45420,\n",
       " 'condition': 14142,\n",
       " 'exclusion': 19969,\n",
       " 'apply': 7511,\n",
       " 'manager': 30711,\n",
       " 'complete': 13985,\n",
       " 'presented': 37453,\n",
       " 'used': 47750,\n",
       " 'conjunction': 14274,\n",
       " 'associate': 8047,\n",
       " 'benefit': 9446,\n",
       " 'redeemable': 39243,\n",
       " 'cash': 12048,\n",
       " 'applicable': 7503,\n",
       " 'tax': 45136,\n",
       " 'paid': 35353,\n",
       " 'bearer': 9189,\n",
       " 'applied': 7509,\n",
       " 'prior': 37581,\n",
       " 'gift': 22603,\n",
       " 'card': 11885,\n",
       " 'void': 48649,\n",
       " 'prohibited': 37749,\n",
       " 'licensed': 29504,\n",
       " 'regulated': 39433,\n",
       " 'catalog': 12096,\n",
       " 'valid': 47959,\n",
       " '01': 59,\n",
       " 'participate': 35587,\n",
       " 'wish': 49677,\n",
       " 'future': 21952,\n",
       " 'unsubscribe': 47558,\n",
       " 'looking': 30014,\n",
       " 'medication': 31353,\n",
       " 'best': 9573,\n",
       " 'source': 43244,\n",
       " 'material': 31028,\n",
       " 'better': 9610,\n",
       " 'law': 29099,\n",
       " 'easy': 18340,\n",
       " 'ruin': 40768,\n",
       " 'bad': 8682,\n",
       " 'excuse': 19983,\n",
       " 'simpliest': 42506,\n",
       " 'site': 42582,\n",
       " 'net': 33367,\n",
       " 'perscription': 36038,\n",
       " 'delivery': 16343,\n",
       " 'private': 37599,\n",
       " 'secure': 41623,\n",
       " 'rightly': 40207,\n",
       " 'pound': 37187,\n",
       " 'squint': 43610,\n",
       " 'million': 31889,\n",
       " 'got': 23038,\n",
       " 'want': 48986,\n",
       " 'erection': 19493,\n",
       " 'treatment': 46580,\n",
       " 'pill': 36475,\n",
       " 'anti': 7311,\n",
       " 'depressant': 16517,\n",
       " 'weight': 49247,\n",
       " 'loss': 30075,\n",
       " 'splicing': 43470,\n",
       " 'bombahakcx': 10326,\n",
       " 'knowledge': 28502,\n",
       " 'human': 25125,\n",
       " 'power': 37206,\n",
       " 'synonymous': 44860,\n",
       " 'high': 24462,\n",
       " 'quality': 38518,\n",
       " 'stuff': 44211,\n",
       " 'low': 30133,\n",
       " 'rate': 38894,\n",
       " '100': 551,\n",
       " 'moneyback': 32355,\n",
       " 'guarantee': 23442,\n",
       " 'god': 22881,\n",
       " 'nature': 33139,\n",
       " 'sufficeth': 44365,\n",
       " 'unto': 47577,\n",
       " 'wise': 49671,\n",
       " 'hath': 23971,\n",
       " 'author': 8359,\n",
       " 'noms': 33795,\n",
       " 'actual': 5850,\n",
       " '26': 1846,\n",
       " 'forwarded': 21510,\n",
       " 'melissa': 31459,\n",
       " 'jones': 27638,\n",
       " 'texas': 45495,\n",
       " 'utility': 47806,\n",
       " '02': 87,\n",
       " '27': 1891,\n",
       " '10': 550,\n",
       " '33': 2226,\n",
       " 'eileen': 18676,\n",
       " 'ponton': 36996,\n",
       " '46': 2936,\n",
       " 'david': 15877,\n",
       " 'avila': 8472,\n",
       " 'lsp': 30213,\n",
       " 'enserch': 19241,\n",
       " 'tu': 46842,\n",
       " 'charlie': 12607,\n",
       " 'stone': 43998,\n",
       " 'scheduling': 41324,\n",
       " 'liz': 29762,\n",
       " 'bellamy': 9371,\n",
       " 'cc': 12225,\n",
       " 'mcf': 31209,\n",
       " 'mmbtu': 32175,\n",
       " '456': 2917,\n",
       " '469': 2980,\n",
       " 'btu': 11066,\n",
       " '027': 103,\n",
       " 'nomination': 33787,\n",
       " 'oct': 34303,\n",
       " '23': 1668,\n",
       " '2000': 1459,\n",
       " 'hplnl': 24994,\n",
       " '021': 95,\n",
       " 'vocable': 48630,\n",
       " 'rnd': 40381,\n",
       " 'word': 49889,\n",
       " 'asceticism': 7919,\n",
       " 'vcsc': 48115,\n",
       " 'brand': 10638,\n",
       " 'stock': 43970,\n",
       " 'attention': 8218,\n",
       " 'vocalscape': 48633,\n",
       " 'symbol': 44825,\n",
       " 'pick': 36402,\n",
       " 'month': 32421,\n",
       " 'april': 7569,\n",
       " 'expected': 20064,\n",
       " 'bounce': 10483,\n",
       " 'cent': 12362,\n",
       " 'level': 29425,\n",
       " 'hit': 24570,\n",
       " 'explode': 20134,\n",
       " 'watch': 49063,\n",
       " 'soar': 43008,\n",
       " 'crazy': 15051,\n",
       " 'breaking': 10722,\n",
       " 'news': 33447,\n",
       " 'announces': 7233,\n",
       " 'agreement': 6328,\n",
       " 'resell': 39791,\n",
       " 'mix': 32102,\n",
       " 'network': 33393,\n",
       " 'service': 41872,\n",
       " 'current': 15444,\n",
       " '025': 99,\n",
       " 'expect': 20060,\n",
       " 'projected': 37755,\n",
       " 'speculative': 43380,\n",
       " 'building': 11145,\n",
       " 'company': 13921,\n",
       " 'revolutionizing': 40040,\n",
       " 'telecommunication': 45305,\n",
       " 'industry': 26119,\n",
       " 'affordable': 6196,\n",
       " 'phone': 36312,\n",
       " 'hardware': 23889,\n",
       " 'software': 43058,\n",
       " 'global': 22781,\n",
       " 'reach': 38996,\n",
       " 'receiving': 39120,\n",
       " 'international': 26547,\n",
       " 'development': 16725,\n",
       " 'voice': 48646,\n",
       " 'ip': 26749,\n",
       " 'voip': 48651,\n",
       " 'application': 7507,\n",
       " 'solution': 43115,\n",
       " 'including': 25953,\n",
       " 'award': 8509,\n",
       " 'winning': 49642,\n",
       " 'eyefontm': 20258,\n",
       " 'softphone': 43054,\n",
       " 'pc': 35775,\n",
       " 'advanced': 6068,\n",
       " 'implementer': 25790,\n",
       " 'pbx': 35773,\n",
       " 'center': 12368,\n",
       " 'itsps': 26971,\n",
       " 'provider': 37914,\n",
       " 'created': 15068,\n",
       " 'interactive': 26500,\n",
       " 'revolving': 40043,\n",
       " 'communication': 13903,\n",
       " 'convergence': 14531,\n",
       " 'internet': 26554,\n",
       " 'protocol': 37887,\n",
       " 'pbxs': 35774,\n",
       " 'softswitches': 43055,\n",
       " 'providing': 37916,\n",
       " 'interaction': 26499,\n",
       " 'information': 26221,\n",
       " 'business': 11299,\n",
       " 'world': 49934,\n",
       " 'significantly': 42438,\n",
       " 'lower': 30134,\n",
       " 'long': 29987,\n",
       " 'distance': 17275,\n",
       " 'charge': 12587,\n",
       " 'develop': 16719,\n",
       " 'run': 40785,\n",
       " 'sell': 41728,\n",
       " 'install': 26400,\n",
       " 'branded': 10641,\n",
       " 'gateway': 22221,\n",
       " 'gatekeeper': 22220,\n",
       " 'license': 29503,\n",
       " 'committed': 13878,\n",
       " 'making': 30642,\n",
       " 'technology': 45259,\n",
       " 'challenging': 12520,\n",
       " 'status': 43817,\n",
       " 'quo': 38633,\n",
       " 'st': 43664,\n",
       " 'century': 12407,\n",
       " 'communicate': 13899,\n",
       " 'interact': 26497,\n",
       " 'katonah': 28052,\n",
       " 'prnewswire': 37618,\n",
       " 'firstcall': 21005,\n",
       " 'comtex': 14067,\n",
       " 'pink': 36503,\n",
       " 'emerging': 18969,\n",
       " 'telephony': 45319,\n",
       " 'announced': 7229,\n",
       " 'entered': 19256,\n",
       " 'agent': 6272,\n",
       " 'enhanced': 19160,\n",
       " 'provides': 37915,\n",
       " 'turnkey': 46919,\n",
       " 'calling': 11632,\n",
       " 'access': 5641,\n",
       " 'north': 33855,\n",
       " 'american': 6935,\n",
       " 'dids': 16919,\n",
       " 'number': 34043,\n",
       " 'domestic': 17600,\n",
       " 'termination': 45428,\n",
       " 'able': 5504,\n",
       " 'supply': 44523,\n",
       " 'client': 13340,\n",
       " 'pre': 37321,\n",
       " 'excited': 19956,\n",
       " 'help': 24236,\n",
       " 'launch': 29067,\n",
       " 'model': 32251,\n",
       " 'using': 47768,\n",
       " 'picture': 36426,\n",
       " 'route': 40607,\n",
       " 'ability': 5496,\n",
       " 'wholesale': 49473,\n",
       " 'monthly': 32423,\n",
       " 'flat': 21109,\n",
       " 'plan': 36642,\n",
       " 'allow': 6747,\n",
       " 'build': 11143,\n",
       " 'popular': 37027,\n",
       " 'vonage': 48692,\n",
       " 'packet': 35325,\n",
       " 'say': 41239,\n",
       " 'ryan': 40870,\n",
       " 'gibson': 22597,\n",
       " 'vp': 48724,\n",
       " 'legal': 29290,\n",
       " 'contains': 14432,\n",
       " 'forward': 21509,\n",
       " 'statement': 43797,\n",
       " 'meaning': 31306,\n",
       " 'section': 41615,\n",
       " 'security': 41629,\n",
       " 'act': 5822,\n",
       " '1933': 1381,\n",
       " 'exchange': 19947,\n",
       " '1934': 1382,\n",
       " 'express': 20165,\n",
       " 'involve': 26718,\n",
       " 'discussion': 17177,\n",
       " 'respect': 39853,\n",
       " 'prediction': 37357,\n",
       " 'goal': 22871,\n",
       " 'expectation': 20063,\n",
       " 'belief': 9358,\n",
       " 'projection': 37757,\n",
       " 'objective': 34209,\n",
       " 'assumption': 8060,\n",
       " 'performance': 35978,\n",
       " 'historical': 24566,\n",
       " 'fact': 20319,\n",
       " 'based': 8974,\n",
       " 'estimate': 19680,\n",
       " 'risk': 40263,\n",
       " 'uncertainty': 47325,\n",
       " 'cause': 12164,\n",
       " 'result': 39914,\n",
       " 'differ': 16949,\n",
       " 'materially': 31032,\n",
       " 'anticipated': 7315,\n",
       " 'action': 5831,\n",
       " 'identified': 25452,\n",
       " 'project': 37754,\n",
       " 'foresee': 21421,\n",
       " 'expects': 20068,\n",
       " 'understands': 47382,\n",
       " 'anticipates': 7316,\n",
       " 'indicating': 26064,\n",
       " 'certain': 12428,\n",
       " 'occur': 34281,\n",
       " 'pertaining': 36080,\n",
       " 'investing': 26682,\n",
       " 'understood': 47385,\n",
       " 'investment': 26689,\n",
       " 'advice': 6092,\n",
       " 'equity': 19466,\n",
       " 'alert': 6585,\n",
       " 'advises': 6100,\n",
       " 'reader': 39009,\n",
       " 'subscriber': 44288,\n",
       " 'seek': 41650,\n",
       " 'registered': 39412,\n",
       " 'professional': 37695,\n",
       " 'representative': 39726,\n",
       " 'deciding': 16089,\n",
       " 'featured': 20582,\n",
       " 'report': 39711,\n",
       " 'shall': 42016,\n",
       " 'construed': 14397,\n",
       " 'kind': 28318,\n",
       " 'mind': 31920,\n",
       " 'interpretation': 26565,\n",
       " 'witer': 49696,\n",
       " 'newsletter': 33453,\n",
       " 'published': 38058,\n",
       " 'represent': 39722,\n",
       " 'official': 34400,\n",
       " 'release': 39513,\n",
       " 'meant': 31311,\n",
       " 'look': 30009,\n",
       " 'judge': 27774,\n",
       " 'compliance': 13998,\n",
       " '17': 1259,\n",
       " 'disclose': 17129,\n",
       " 'holding': 24695,\n",
       " 'publication': 38051,\n",
       " 'aware': 8512,\n",
       " 'inherent': 26266,\n",
       " 'conflict': 14215,\n",
       " 'resulting': 39917,\n",
       " 'intent': 26492,\n",
       " 'profit': 37717,\n",
       " 'liquidation': 29678,\n",
       " 'sold': 43077,\n",
       " 'positive': 37102,\n",
       " 'regarding': 39395,\n",
       " 'opinion': 34772,\n",
       " 'cautioned': 12171,\n",
       " 'undue': 47408,\n",
       " 'reliance': 39522,\n",
       " 'involving': 26722,\n",
       " 'various': 48055,\n",
       " 'forth': 21492,\n",
       " 'advised': 6096,\n",
       " 'constitute': 14380,\n",
       " 'solicitation': 43091,\n",
       " 'invitation': 26700,\n",
       " 'position': 37098,\n",
       " 'mentioned': 31522,\n",
       " 'advisor': 6102,\n",
       " 'affiliated': 6180,\n",
       " 'broker': 10913,\n",
       " 'dealer': 16003,\n",
       " '49000': 3049,\n",
       " 'party': 35608,\n",
       " 'send': 41764,\n",
       " 'treated': 46576,\n",
       " 'includes': 25952,\n",
       " 'litigation': 29731,\n",
       " 'reform': 39355,\n",
       " '1995': 1430,\n",
       " 'include': 25950,\n",
       " 'believe': 9362,\n",
       " 'undervalued': 47392,\n",
       " 'intend': 26483,\n",
       " '01405': 74,\n",
       " 'wffur': 49359,\n",
       " 'attion': 8228,\n",
       " 'brom': 10920,\n",
       " 'est': 19662,\n",
       " 'inst': 26394,\n",
       " 'siupied': 42602,\n",
       " 'pgst': 36188,\n",
       " 'riwe': 40290,\n",
       " 'asently': 7932,\n",
       " 'rest': 39881,\n",
       " 'tont': 46233,\n",
       " 'presyou': 37492,\n",
       " 'tew': 45489,\n",
       " 'benco': 9427,\n",
       " 'yee': 50668,\n",
       " 'fater': 20476,\n",
       " '45': 2867,\n",
       " 'ust': 47777,\n",
       " 'lyughtatums': 30420,\n",
       " 'inenced': 26138,\n",
       " 'sorepit': 43207,\n",
       " 'grathers': 23192,\n",
       " 'aicy': 6377,\n",
       " 'graghteave': 23141,\n",
       " 'allarity': 6689,\n",
       " 'oarity': 34178,\n",
       " 'wow': 49988,\n",
       " 'yur': 50947,\n",
       " 'coon': 14587,\n",
       " '60': 3501,\n",
       " 'mers': 31592,\n",
       " 'oite': 34493,\n",
       " 'ithat': 26951,\n",
       " 'yoit': 50802,\n",
       " 'berst': 9546,\n",
       " 'thar': 45588,\n",
       " 'enth': 19272,\n",
       " 'excives': 19962,\n",
       " '2004': 1471,\n",
       " 'actuals': 5858,\n",
       " 'august': 8304,\n",
       " '28': 1939,\n",
       " 'tap': 45079,\n",
       " '20': 1457,\n",
       " '000': 1,\n",
       " '120': 750,\n",
       " 'lsk': 30209,\n",
       " 'ic': 25391,\n",
       " 'vic': 48339,\n",
       " 'odin': 34334,\n",
       " 'ow': 35227,\n",
       " 'berne': 9528,\n",
       " 'hotbox': 24924,\n",
       " 'carnal': 11956,\n",
       " 'bride': 10802,\n",
       " 'cutworm': 15518,\n",
       " 'dyadic': 18215,\n",
       " 'guardia': 23452,\n",
       " 'continuous': 14468,\n",
       " 'born': 10423,\n",
       " 'gremlin': 23266,\n",
       " 'akin': 6505,\n",
       " 'counterflow': 14850,\n",
       " 'vocabularian': 48631,\n",
       " 'pessimum': 36105,\n",
       " 'yaounde': 50593,\n",
       " 'cannel': 11766,\n",
       " 'bitch': 9914,\n",
       " 'penetrate': 35904,\n",
       " 'demagogue': 16374,\n",
       " 'arbitrary': 7633,\n",
       " 'egregious': 18624,\n",
       " 'adenosine': 5941,\n",
       " 'rubin': 40737,\n",
       " 'gil': 22621,\n",
       " 'luminosity': 30306,\n",
       " 'delicti': 16319,\n",
       " 'yarmulke': 50605,\n",
       " 'sauterne': 41202,\n",
       " 'selfadjoint': 41718,\n",
       " 'agleam': 6303,\n",
       " 'exeter': 20009,\n",
       " 'picofarad': 36420,\n",
       " 'consulate': 14403,\n",
       " 'dichotomous': 16891,\n",
       " 'boyhood': 10548,\n",
       " 'balfour': 8755,\n",
       " 'spheric': 43414,\n",
       " 'frey': 21702,\n",
       " 'pillory': 36481,\n",
       " 'hoosier': 24845,\n",
       " 'fibonacci': 20795,\n",
       " 'cat': 12090,\n",
       " 'handful': 23773,\n",
       " 'tenaska': 45368,\n",
       " 'iv': 26995,\n",
       " 'july': 27814,\n",
       " 'darren': 15824,\n",
       " 'remove': 39605,\n",
       " '384258': 2517,\n",
       " 'enter': 19254,\n",
       " 'demand': 16375,\n",
       " 'fee': 20602,\n",
       " '902': 4718,\n",
       " '687': 3872,\n",
       " '50': 3090,\n",
       " 'thanks': 45577,\n",
       " 'megan': 31418,\n",
       " 'underpriced': 47375,\n",
       " 'issue': 26923,\n",
       " 'dont': 17647,\n",
       " 'sieep': 42407,\n",
       " 'hot': 24921,\n",
       " 'gaming': 22125,\n",
       " 'transaction': 46444,\n",
       " 'ggts': 22561,\n",
       " 'currentiy': 15445,\n",
       " 'trading': 46407,\n",
       " 'rating': 38902,\n",
       " 'strong': 44152,\n",
       " 'near': 33232,\n",
       " 'target': 45094,\n",
       " 'oo': 34704,\n",
       " 'eading': 18272,\n",
       " 'porta': 37065,\n",
       " 'management': 30710,\n",
       " 'pleased': 36723,\n",
       " 'announce': 7228,\n",
       " 'launched': 29068,\n",
       " 'proprietary': 37835,\n",
       " 'portal': 37069,\n",
       " 'furthermore': 21935,\n",
       " 'begun': 9312,\n",
       " 'intensive': 26491,\n",
       " 'marketing': 30899,\n",
       " 'campaign': 11693,\n",
       " 'support': 44525,\n",
       " 'aunch': 8315,\n",
       " 'establish': 19666,\n",
       " 'eader': 18271,\n",
       " 'oniine': 34654,\n",
       " 'game': 22120,\n",
       " 'destination': 16643,\n",
       " 'people': 35934,\n",
       " 'piay': 36391,\n",
       " 'casino': 12061,\n",
       " 'style': 44248,\n",
       " 'win': 49600,\n",
       " 'money': 32354,\n",
       " 'foundation': 21525,\n",
       " 'version': 48241,\n",
       " 'keno': 28160,\n",
       " '80': 4336,\n",
       " 'ball': 8762,\n",
       " 'numbered': 34044,\n",
       " 'draw': 17842,\n",
       " 'bail': 8717,\n",
       " 'random': 38842,\n",
       " 'display': 17230,\n",
       " 'screen': 41465,\n",
       " 'called': 11625,\n",
       " 'board': 10231,\n",
       " 'located': 29888,\n",
       " 'website': 49210,\n",
       " 'object': 34206,\n",
       " 'player': 36695,\n",
       " 'guess': 23472,\n",
       " 'popuiar': 37025,\n",
       " 'inciuding': 25944,\n",
       " 'bingo': 9836,\n",
       " 'poker': 36904,\n",
       " 'blackjack': 9985,\n",
       " 'slot': 42800,\n",
       " 'video': 48372,\n",
       " 'tabie': 44914,\n",
       " 'patrick': 35683,\n",
       " 'smyth': 42924,\n",
       " 'ceo': 12408,\n",
       " 'remarked': 39561,\n",
       " 'deveioped': 16712,\n",
       " 'foresight': 21423,\n",
       " 'create': 15067,\n",
       " 'friendly': 21720,\n",
       " 'experience': 20093,\n",
       " 'loading': 29864,\n",
       " 'multipie': 32797,\n",
       " 'layer': 29118,\n",
       " 'redundancy': 39286,\n",
       " 'spent': 43408,\n",
       " 'necessary': 33252,\n",
       " 'resource': 39850,\n",
       " 'test': 45463,\n",
       " 'ensure': 19245,\n",
       " 'functionality': 21892,\n",
       " 'consumer': 14413,\n",
       " 'focus': 21284,\n",
       " 'group': 23346,\n",
       " 'deveiopment': 16716,\n",
       " 'sure': 44557,\n",
       " 'opulent': 34839,\n",
       " 'effort': 18586,\n",
       " 'wi': 49493,\n",
       " 'aimed': 6399,\n",
       " 'deveioper': 16713,\n",
       " 'entertainment': 19267,\n",
       " 'centrum': 12405,\n",
       " 'gambling': 22118,\n",
       " 'property': 37819,\n",
       " 'fixture': 21046,\n",
       " 'ocated': 34261,\n",
       " 'piayer': 36392,\n",
       " 'gambiing': 22114,\n",
       " 'said': 40963,\n",
       " 'fastest': 20464,\n",
       " 'growing': 23353,\n",
       " 'electronic': 18784,\n",
       " 'forecast': 21403,\n",
       " '14': 990,\n",
       " 'biliion': 9789,\n",
       " '2006': 1480,\n",
       " 'market': 30893,\n",
       " 'statistic': 43808,\n",
       " 'informa': 26216,\n",
       " 'medium': 31374,\n",
       " 'grp': 23359,\n",
       " 'giobal': 22659,\n",
       " '52': 3220,\n",
       " 'bi': 9706,\n",
       " 'ion': 26737,\n",
       " '81': 4378,\n",
       " 'biilion': 9771,\n",
       " 'according': 5683,\n",
       " 'generate': 22385,\n",
       " '24': 1712,\n",
       " 'percent': 35949,\n",
       " 'europe': 19787,\n",
       " 'wil': 49543,\n",
       " '53': 3254,\n",
       " '99': 5363,\n",
       " '85': 4520,\n",
       " 'grow': 23352,\n",
       " '29': 1981,\n",
       " 'billion': 9804,\n",
       " '64': 3694,\n",
       " 'smailer': 42839,\n",
       " 'asia': 7950,\n",
       " 'pacific': 35313,\n",
       " '379': 2491,\n",
       " 'miliion': 31862,\n",
       " 'worid': 49898,\n",
       " '143': 1028,\n",
       " '886': 4651,\n",
       " 'mi': 31732,\n",
       " 'highest': 24468,\n",
       " 'grossing': 23335,\n",
       " 'government': 23072,\n",
       " 'body': 10268,\n",
       " 'pubiic': 38045,\n",
       " 'corporation': 14712,\n",
       " 'quick': 38586,\n",
       " 'profitabie': 37718,\n",
       " 'gambiers': 22112,\n",
       " 'excitement': 19957,\n",
       " 'lottery': 30089,\n",
       " 'wait': 48904,\n",
       " 'weekiy': 49233,\n",
       " 'offering': 34382,\n",
       " 'combining': 13790,\n",
       " 'sophisticated': 43199,\n",
       " 'cutting': 15514,\n",
       " 'edge': 18458,\n",
       " 'encryption': 19094,\n",
       " 'decryption': 16156,\n",
       " 'technique': 45249,\n",
       " 'icensed': 25405,\n",
       " 'optimum': 34826,\n",
       " 'method': 31648,\n",
       " 'pians': 36386,\n",
       " 'historica': 24565,\n",
       " 'ooking': 34713,\n",
       " 'couid': 14826,\n",
       " 'materia': 31026,\n",
       " 'avaiiabie': 8420,\n",
       " 'factor': 20321,\n",
       " 'actua': 5849,\n",
       " 'resuits': 39913,\n",
       " 'prospect': 37854,\n",
       " 'opportunity': 34790,\n",
       " 'materialiy': 31030,\n",
       " 'expressed': 20166,\n",
       " 'impiied': 25780,\n",
       " 'microcap': 31756,\n",
       " 'additiona': 5913,\n",
       " 'raise': 38791,\n",
       " 'doubt': 17726,\n",
       " 'concern': 14094,\n",
       " 'reporting': 39715,\n",
       " 'imited': 25702,\n",
       " ...}"
      ]
     },
     "execution_count": 26,
     "metadata": {},
     "output_type": "execute_result"
    }
   ],
   "source": [
    "Cv.vocabulary_"
   ]
  },
  {
   "cell_type": "code",
   "execution_count": 34,
   "id": "c88b7fa5",
   "metadata": {},
   "outputs": [
    {
     "data": {
      "text/plain": [
       "array([[1, 0, 0, ..., 0, 0, 0],\n",
       "       [0, 0, 0, ..., 0, 0, 0],\n",
       "       [0, 0, 0, ..., 0, 0, 0],\n",
       "       ...,\n",
       "       [0, 0, 0, ..., 0, 0, 0],\n",
       "       [0, 0, 0, ..., 0, 0, 0],\n",
       "       [0, 0, 0, ..., 0, 0, 0]], dtype=int64)"
      ]
     },
     "execution_count": 34,
     "metadata": {},
     "output_type": "execute_result"
    }
   ],
   "source": [
    "Cv_text"
   ]
  },
  {
   "cell_type": "markdown",
   "id": "c7379952",
   "metadata": {},
   "source": [
    "# Spliting Data in x & y\n"
   ]
  },
  {
   "cell_type": "code",
   "execution_count": 35,
   "id": "537df660",
   "metadata": {},
   "outputs": [],
   "source": [
    "x_Cv=Cv_text"
   ]
  },
  {
   "cell_type": "code",
   "execution_count": 36,
   "id": "58a4e20d",
   "metadata": {},
   "outputs": [],
   "source": [
    "y_Cv=Data['Target']"
   ]
  },
  {
   "cell_type": "code",
   "execution_count": 37,
   "id": "2fca0489",
   "metadata": {},
   "outputs": [],
   "source": [
    "x_train_Cv,x_test_Cv,y_train_Cv,y_test_Cv=train_test_split(x_Cv,y_Cv,train_size=0.7,random_state=50)"
   ]
  },
  {
   "cell_type": "markdown",
   "id": "53dc4329",
   "metadata": {},
   "source": [
    "# TF-IDF Vectoriztion"
   ]
  },
  {
   "cell_type": "code",
   "execution_count": 38,
   "id": "e8ae88eb",
   "metadata": {},
   "outputs": [],
   "source": [
    "TF=TfidfVectorizer(stop_words='english')"
   ]
  },
  {
   "cell_type": "code",
   "execution_count": 39,
   "id": "ff12246c",
   "metadata": {},
   "outputs": [],
   "source": [
    "TF_text=TF.fit_transform(Data['Processed_Text']).toarray()"
   ]
  },
  {
   "cell_type": "code",
   "execution_count": 40,
   "id": "e256cc99",
   "metadata": {},
   "outputs": [
    {
     "data": {
      "text/plain": [
       "array([[0.11567072, 0.        , 0.        , ..., 0.        , 0.        ,\n",
       "        0.        ],\n",
       "       [0.        , 0.        , 0.        , ..., 0.        , 0.        ,\n",
       "        0.        ],\n",
       "       [0.        , 0.        , 0.        , ..., 0.        , 0.        ,\n",
       "        0.        ],\n",
       "       ...,\n",
       "       [0.        , 0.        , 0.        , ..., 0.        , 0.        ,\n",
       "        0.        ],\n",
       "       [0.        , 0.        , 0.        , ..., 0.        , 0.        ,\n",
       "        0.        ],\n",
       "       [0.        , 0.        , 0.        , ..., 0.        , 0.        ,\n",
       "        0.        ]])"
      ]
     },
     "execution_count": 40,
     "metadata": {},
     "output_type": "execute_result"
    }
   ],
   "source": [
    "TF_text"
   ]
  },
  {
   "cell_type": "markdown",
   "id": "e1eccfab",
   "metadata": {},
   "source": [
    "# Spliting Data in  x & y"
   ]
  },
  {
   "cell_type": "code",
   "execution_count": 41,
   "id": "f85936af",
   "metadata": {},
   "outputs": [],
   "source": [
    "x_TF=TF_text"
   ]
  },
  {
   "cell_type": "code",
   "execution_count": 42,
   "id": "941fcaf3",
   "metadata": {},
   "outputs": [],
   "source": [
    "y_TF=Data['Target']"
   ]
  },
  {
   "cell_type": "code",
   "execution_count": 43,
   "id": "5b8639f6",
   "metadata": {},
   "outputs": [],
   "source": [
    "x_train_TF,x_test_TF,y_train_TF,y_test_TF=train_test_split(x_TF,y_TF,train_size=0.7,random_state=50)"
   ]
  },
  {
   "cell_type": "code",
   "execution_count": null,
   "id": "c1187a23",
   "metadata": {},
   "outputs": [],
   "source": []
  },
  {
   "cell_type": "markdown",
   "id": "d84e22df",
   "metadata": {},
   "source": [
    "# Model_Selection Based Count_Vectrizer"
   ]
  },
  {
   "cell_type": "code",
   "execution_count": 44,
   "id": "4330e68e",
   "metadata": {},
   "outputs": [],
   "source": [
    "from sklearn.linear_model import LogisticRegression\n",
    "Log=LogisticRegression()"
   ]
  },
  {
   "cell_type": "code",
   "execution_count": 45,
   "id": "811c029d",
   "metadata": {},
   "outputs": [
    {
     "data": {
      "text/html": [
       "<style>#sk-container-id-1 {color: black;background-color: white;}#sk-container-id-1 pre{padding: 0;}#sk-container-id-1 div.sk-toggleable {background-color: white;}#sk-container-id-1 label.sk-toggleable__label {cursor: pointer;display: block;width: 100%;margin-bottom: 0;padding: 0.3em;box-sizing: border-box;text-align: center;}#sk-container-id-1 label.sk-toggleable__label-arrow:before {content: \"▸\";float: left;margin-right: 0.25em;color: #696969;}#sk-container-id-1 label.sk-toggleable__label-arrow:hover:before {color: black;}#sk-container-id-1 div.sk-estimator:hover label.sk-toggleable__label-arrow:before {color: black;}#sk-container-id-1 div.sk-toggleable__content {max-height: 0;max-width: 0;overflow: hidden;text-align: left;background-color: #f0f8ff;}#sk-container-id-1 div.sk-toggleable__content pre {margin: 0.2em;color: black;border-radius: 0.25em;background-color: #f0f8ff;}#sk-container-id-1 input.sk-toggleable__control:checked~div.sk-toggleable__content {max-height: 200px;max-width: 100%;overflow: auto;}#sk-container-id-1 input.sk-toggleable__control:checked~label.sk-toggleable__label-arrow:before {content: \"▾\";}#sk-container-id-1 div.sk-estimator input.sk-toggleable__control:checked~label.sk-toggleable__label {background-color: #d4ebff;}#sk-container-id-1 div.sk-label input.sk-toggleable__control:checked~label.sk-toggleable__label {background-color: #d4ebff;}#sk-container-id-1 input.sk-hidden--visually {border: 0;clip: rect(1px 1px 1px 1px);clip: rect(1px, 1px, 1px, 1px);height: 1px;margin: -1px;overflow: hidden;padding: 0;position: absolute;width: 1px;}#sk-container-id-1 div.sk-estimator {font-family: monospace;background-color: #f0f8ff;border: 1px dotted black;border-radius: 0.25em;box-sizing: border-box;margin-bottom: 0.5em;}#sk-container-id-1 div.sk-estimator:hover {background-color: #d4ebff;}#sk-container-id-1 div.sk-parallel-item::after {content: \"\";width: 100%;border-bottom: 1px solid gray;flex-grow: 1;}#sk-container-id-1 div.sk-label:hover label.sk-toggleable__label {background-color: #d4ebff;}#sk-container-id-1 div.sk-serial::before {content: \"\";position: absolute;border-left: 1px solid gray;box-sizing: border-box;top: 0;bottom: 0;left: 50%;z-index: 0;}#sk-container-id-1 div.sk-serial {display: flex;flex-direction: column;align-items: center;background-color: white;padding-right: 0.2em;padding-left: 0.2em;position: relative;}#sk-container-id-1 div.sk-item {position: relative;z-index: 1;}#sk-container-id-1 div.sk-parallel {display: flex;align-items: stretch;justify-content: center;background-color: white;position: relative;}#sk-container-id-1 div.sk-item::before, #sk-container-id-1 div.sk-parallel-item::before {content: \"\";position: absolute;border-left: 1px solid gray;box-sizing: border-box;top: 0;bottom: 0;left: 50%;z-index: -1;}#sk-container-id-1 div.sk-parallel-item {display: flex;flex-direction: column;z-index: 1;position: relative;background-color: white;}#sk-container-id-1 div.sk-parallel-item:first-child::after {align-self: flex-end;width: 50%;}#sk-container-id-1 div.sk-parallel-item:last-child::after {align-self: flex-start;width: 50%;}#sk-container-id-1 div.sk-parallel-item:only-child::after {width: 0;}#sk-container-id-1 div.sk-dashed-wrapped {border: 1px dashed gray;margin: 0 0.4em 0.5em 0.4em;box-sizing: border-box;padding-bottom: 0.4em;background-color: white;}#sk-container-id-1 div.sk-label label {font-family: monospace;font-weight: bold;display: inline-block;line-height: 1.2em;}#sk-container-id-1 div.sk-label-container {text-align: center;}#sk-container-id-1 div.sk-container {/* jupyter's `normalize.less` sets `[hidden] { display: none; }` but bootstrap.min.css set `[hidden] { display: none !important; }` so we also need the `!important` here to be able to override the default hidden behavior on the sphinx rendered scikit-learn.org. See: https://github.com/scikit-learn/scikit-learn/issues/21755 */display: inline-block !important;position: relative;}#sk-container-id-1 div.sk-text-repr-fallback {display: none;}</style><div id=\"sk-container-id-1\" class=\"sk-top-container\"><div class=\"sk-text-repr-fallback\"><pre>LogisticRegression()</pre><b>In a Jupyter environment, please rerun this cell to show the HTML representation or trust the notebook. <br />On GitHub, the HTML representation is unable to render, please try loading this page with nbviewer.org.</b></div><div class=\"sk-container\" hidden><div class=\"sk-item\"><div class=\"sk-estimator sk-toggleable\"><input class=\"sk-toggleable__control sk-hidden--visually\" id=\"sk-estimator-id-1\" type=\"checkbox\" checked><label for=\"sk-estimator-id-1\" class=\"sk-toggleable__label sk-toggleable__label-arrow\">LogisticRegression</label><div class=\"sk-toggleable__content\"><pre>LogisticRegression()</pre></div></div></div></div></div>"
      ],
      "text/plain": [
       "LogisticRegression()"
      ]
     },
     "execution_count": 45,
     "metadata": {},
     "output_type": "execute_result"
    }
   ],
   "source": [
    "Log.fit(x_train_Cv,y_train_Cv)"
   ]
  },
  {
   "cell_type": "code",
   "execution_count": 46,
   "id": "6bd7d89b",
   "metadata": {},
   "outputs": [
    {
     "name": "stdout",
     "output_type": "stream",
     "text": [
      "Train_Score_Log: 0.997\n",
      "Test_Score_Log: 0.968\n"
     ]
    }
   ],
   "source": [
    "print('Train_Score_Log:',round(Log.score(x_train_Cv,y_train_Cv),3))\n",
    "print('Test_Score_Log:',round(Log.score(x_test_Cv,y_test_Cv),3))"
   ]
  },
  {
   "cell_type": "code",
   "execution_count": 47,
   "id": "e5b6f3e0",
   "metadata": {},
   "outputs": [],
   "source": [
    "Log_test_pri=Log.predict(x_test_Cv)"
   ]
  },
  {
   "cell_type": "code",
   "execution_count": 48,
   "id": "585a341f",
   "metadata": {},
   "outputs": [],
   "source": [
    "from sklearn.metrics import confusion_matrix,classification_report"
   ]
  },
  {
   "cell_type": "code",
   "execution_count": 49,
   "id": "b9592d78",
   "metadata": {},
   "outputs": [
    {
     "name": "stdout",
     "output_type": "stream",
     "text": [
      "[[2402   32]\n",
      " [  66  551]]\n"
     ]
    }
   ],
   "source": [
    "print(confusion_matrix(y_test_Cv,Log_test_pri))"
   ]
  },
  {
   "cell_type": "code",
   "execution_count": 50,
   "id": "a774cbde",
   "metadata": {},
   "outputs": [
    {
     "name": "stdout",
     "output_type": "stream",
     "text": [
      "              precision    recall  f1-score   support\n",
      "\n",
      "           0       0.97      0.99      0.98      2434\n",
      "           1       0.95      0.89      0.92       617\n",
      "\n",
      "    accuracy                           0.97      3051\n",
      "   macro avg       0.96      0.94      0.95      3051\n",
      "weighted avg       0.97      0.97      0.97      3051\n",
      "\n"
     ]
    }
   ],
   "source": [
    "print(classification_report(y_test_Cv,Log_test_pri))"
   ]
  },
  {
   "cell_type": "code",
   "execution_count": 51,
   "id": "16c4582f",
   "metadata": {},
   "outputs": [
    {
     "data": {
      "text/plain": [
       "\"1='spam'\""
      ]
     },
     "execution_count": 51,
     "metadata": {},
     "output_type": "execute_result"
    }
   ],
   "source": [
    "\"0='not_spam'\"\n",
    "\"1='spam'\""
   ]
  },
  {
   "cell_type": "code",
   "execution_count": 52,
   "id": "4966e1e3",
   "metadata": {},
   "outputs": [],
   "source": [
    "def Spam_Detection(text):\n",
    "    text=Text_processing(text)\n",
    "    text=\" \".join(text)\n",
    "    Vector=Cv.transform([text]).toarray()\n",
    "    result=Log.predict(Vector)\n",
    "    if(result==0):\n",
    "        return '** Not_Spam **'\n",
    "    else:\n",
    "        return '** Spam **'\n",
    "        "
   ]
  },
  {
   "cell_type": "code",
   "execution_count": 53,
   "id": "96f7f577",
   "metadata": {},
   "outputs": [],
   "source": [
    "#Log_test_pri='Congratulations! You’re being offered a no-interest Visa credit card. Click here to claim: https://bit.ly/07tjA786'\n",
    "\n"
   ]
  },
  {
   "cell_type": "code",
   "execution_count": 56,
   "id": "27eaa66e",
   "metadata": {},
   "outputs": [],
   "source": [
    "#Log_test_pri=\"Hi This is to confirm that we have received your email and our Learner Success Manager will get back to you with an appropriate resolution.We appreciate you reaching us and we will get back to you at the earliest. In the meantime, you can visit Simplilearn Community Forum and engage with our customers & experts for your learning needs.Your ticket number for this interaction is 01397664.\""
   ]
  },
  {
   "cell_type": "code",
   "execution_count": 57,
   "id": "f70535e4",
   "metadata": {},
   "outputs": [],
   "source": [
    "Log_test_pri='Are you looking to diversify your portfolio to bring more stability to your investments? Then Axis Triple Advantage Fund might be the one for you!It is a 3-in-1 investment option or an asset allocation fund which helps you diversify your money across the three asset categories of equity, debt, and gold to provide you with risk-adjusted returns.'"
   ]
  },
  {
   "cell_type": "code",
   "execution_count": 58,
   "id": "8201641d",
   "metadata": {},
   "outputs": [],
   "source": [
    "#Log_test_pri='Don’t Miss India’s Biggest Fashion Sale!'"
   ]
  },
  {
   "cell_type": "code",
   "execution_count": 60,
   "id": "54e838cf",
   "metadata": {},
   "outputs": [
    {
     "data": {
      "text/plain": [
       "'** Not_Spam **'"
      ]
     },
     "execution_count": 60,
     "metadata": {},
     "output_type": "execute_result"
    }
   ],
   "source": [
    "T=Spam_Detection(Log_test_pri)\n",
    "T"
   ]
  },
  {
   "cell_type": "markdown",
   "id": "4313533e",
   "metadata": {},
   "source": [
    "# Saving two Model"
   ]
  },
  {
   "cell_type": "markdown",
   "id": "693a4430",
   "metadata": {},
   "source": [
    "# 1)Cv   2)Log"
   ]
  },
  {
   "cell_type": "code",
   "execution_count": 61,
   "id": "50c054aa",
   "metadata": {},
   "outputs": [],
   "source": [
    "import pickle"
   ]
  },
  {
   "cell_type": "code",
   "execution_count": 62,
   "id": "4bdb1d6f",
   "metadata": {},
   "outputs": [],
   "source": [
    "pickle.dump([Cv,Log],open('Spam_Mail_Detection','wb'))"
   ]
  },
  {
   "cell_type": "code",
   "execution_count": 68,
   "id": "9248a9e9",
   "metadata": {},
   "outputs": [],
   "source": [
    "import os as os"
   ]
  },
  {
   "cell_type": "code",
   "execution_count": 127,
   "id": "b4271a80",
   "metadata": {},
   "outputs": [
    {
     "data": {
      "text/plain": [
       "'C:\\\\Users\\\\Ashish_Parulekar\\\\PYTHON_FILES\\\\Spam_text_detection'"
      ]
     },
     "execution_count": 127,
     "metadata": {},
     "output_type": "execute_result"
    }
   ],
   "source": [
    "os.getcwd()"
   ]
  },
  {
   "cell_type": "code",
   "execution_count": 111,
   "id": "d6ab881e",
   "metadata": {},
   "outputs": [],
   "source": [
    "text=\" \".join(T)"
   ]
  },
  {
   "cell_type": "code",
   "execution_count": 112,
   "id": "2487fabe",
   "metadata": {},
   "outputs": [
    {
     "data": {
      "text/plain": [
       "'’ issue payment information recent order yq-885629 take action http //bit.ly/hp187ty19'"
      ]
     },
     "execution_count": 112,
     "metadata": {},
     "output_type": "execute_result"
    }
   ],
   "source": [
    "text"
   ]
  },
  {
   "cell_type": "code",
   "execution_count": 114,
   "id": "4a4a203e",
   "metadata": {},
   "outputs": [],
   "source": [
    " Vector=Cv.transform([text]).toarray()"
   ]
  },
  {
   "cell_type": "code",
   "execution_count": 115,
   "id": "8e46c66f",
   "metadata": {},
   "outputs": [
    {
     "data": {
      "text/plain": [
       "2"
      ]
     },
     "execution_count": 115,
     "metadata": {},
     "output_type": "execute_result"
    }
   ],
   "source": [
    " Vector.ndim"
   ]
  },
  {
   "cell_type": "code",
   "execution_count": 119,
   "id": "d05bde84",
   "metadata": {},
   "outputs": [],
   "source": [
    "result=Log.predict(Vector)"
   ]
  },
  {
   "cell_type": "code",
   "execution_count": 120,
   "id": "758dfddb",
   "metadata": {},
   "outputs": [],
   "source": [
    "check=Spam_Detection(Log_test_pri)"
   ]
  },
  {
   "cell_type": "code",
   "execution_count": 121,
   "id": "2d482caa",
   "metadata": {},
   "outputs": [
    {
     "data": {
      "text/plain": [
       "'Spam'"
      ]
     },
     "execution_count": 121,
     "metadata": {},
     "output_type": "execute_result"
    }
   ],
   "source": [
    "check"
   ]
  },
  {
   "cell_type": "code",
   "execution_count": null,
   "id": "0189ac85",
   "metadata": {},
   "outputs": [],
   "source": []
  }
 ],
 "metadata": {
  "kernelspec": {
   "display_name": "Python 3 (ipykernel)",
   "language": "python",
   "name": "python3"
  },
  "language_info": {
   "codemirror_mode": {
    "name": "ipython",
    "version": 3
   },
   "file_extension": ".py",
   "mimetype": "text/x-python",
   "name": "python",
   "nbconvert_exporter": "python",
   "pygments_lexer": "ipython3",
   "version": "3.9.7"
  }
 },
 "nbformat": 4,
 "nbformat_minor": 5
}
