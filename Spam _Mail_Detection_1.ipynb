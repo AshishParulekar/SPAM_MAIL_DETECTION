{
 "cells": [
  {
   "cell_type": "code",
   "execution_count": 1,
   "id": "531bcb30",
   "metadata": {},
   "outputs": [
    {
     "name": "stderr",
     "output_type": "stream",
     "text": [
      "[nltk_data] Downloading package punkt to\n",
      "[nltk_data]     C:\\Users\\Ashish_Parulekar\\AppData\\Roaming\\nltk_data...\n",
      "[nltk_data]   Package punkt is already up-to-date!\n",
      "[nltk_data] Downloading package stopwords to\n",
      "[nltk_data]     C:\\Users\\Ashish_Parulekar\\AppData\\Roaming\\nltk_data...\n",
      "[nltk_data]   Package stopwords is already up-to-date!\n",
      "[nltk_data] Downloading package wordnet to\n",
      "[nltk_data]     C:\\Users\\Ashish_Parulekar\\AppData\\Roaming\\nltk_data...\n",
      "[nltk_data]   Package wordnet is already up-to-date!\n"
     ]
    }
   ],
   "source": [
    "import pandas as pd\n",
    "from nltk.tokenize import word_tokenize\n",
    "import nltk\n",
    "nltk.download('punkt')\n",
    "from nltk.corpus import stopwords\n",
    "nltk.download('stopwords')\n",
    "nltk.download('wordnet')\n",
    "import string\n",
    "from nltk.stem import PorterStemmer\n",
    "from nltk.stem import WordNetLemmatizer\n",
    "from sklearn.feature_extraction.text import CountVectorizer,TfidfVectorizer\n",
    "import numpy as np\n",
    "from sklearn.model_selection import train_test_split\n",
    "import warnings\n",
    "warnings.filterwarnings('ignore')"
   ]
  },
  {
   "cell_type": "code",
   "execution_count": 4,
   "id": "ab203552",
   "metadata": {},
   "outputs": [],
   "source": [
    "Data=pd.read_csv('spam_ham_dataset_Combine.csv',encoding='ISO-8859-1')"
   ]
  },
  {
   "cell_type": "code",
   "execution_count": 5,
   "id": "a8f1bf7a",
   "metadata": {},
   "outputs": [
    {
     "data": {
      "text/html": [
       "<div>\n",
       "<style scoped>\n",
       "    .dataframe tbody tr th:only-of-type {\n",
       "        vertical-align: middle;\n",
       "    }\n",
       "\n",
       "    .dataframe tbody tr th {\n",
       "        vertical-align: top;\n",
       "    }\n",
       "\n",
       "    .dataframe thead th {\n",
       "        text-align: right;\n",
       "    }\n",
       "</style>\n",
       "<table border=\"1\" class=\"dataframe\">\n",
       "  <thead>\n",
       "    <tr style=\"text-align: right;\">\n",
       "      <th></th>\n",
       "      <th>Unnamed: 0</th>\n",
       "      <th>label</th>\n",
       "      <th>text</th>\n",
       "      <th>label_num</th>\n",
       "    </tr>\n",
       "  </thead>\n",
       "  <tbody>\n",
       "    <tr>\n",
       "      <th>0</th>\n",
       "      <td>605.0</td>\n",
       "      <td>ham</td>\n",
       "      <td>Subject: enron methanol ; meter # : 988291\\r\\n...</td>\n",
       "      <td>0.0</td>\n",
       "    </tr>\n",
       "    <tr>\n",
       "      <th>1</th>\n",
       "      <td>2349.0</td>\n",
       "      <td>ham</td>\n",
       "      <td>Subject: hpl nom for january 9 , 2001\\r\\n( see...</td>\n",
       "      <td>0.0</td>\n",
       "    </tr>\n",
       "    <tr>\n",
       "      <th>2</th>\n",
       "      <td>3624.0</td>\n",
       "      <td>ham</td>\n",
       "      <td>Subject: neon retreat\\r\\nho ho ho , we ' re ar...</td>\n",
       "      <td>0.0</td>\n",
       "    </tr>\n",
       "    <tr>\n",
       "      <th>3</th>\n",
       "      <td>4685.0</td>\n",
       "      <td>spam</td>\n",
       "      <td>Subject: photoshop , windows , office . cheap ...</td>\n",
       "      <td>1.0</td>\n",
       "    </tr>\n",
       "    <tr>\n",
       "      <th>4</th>\n",
       "      <td>2030.0</td>\n",
       "      <td>ham</td>\n",
       "      <td>Subject: re : indian springs\\r\\nthis deal is t...</td>\n",
       "      <td>0.0</td>\n",
       "    </tr>\n",
       "  </tbody>\n",
       "</table>\n",
       "</div>"
      ],
      "text/plain": [
       "   Unnamed: 0 label                                               text  \\\n",
       "0       605.0   ham  Subject: enron methanol ; meter # : 988291\\r\\n...   \n",
       "1      2349.0   ham  Subject: hpl nom for january 9 , 2001\\r\\n( see...   \n",
       "2      3624.0   ham  Subject: neon retreat\\r\\nho ho ho , we ' re ar...   \n",
       "3      4685.0  spam  Subject: photoshop , windows , office . cheap ...   \n",
       "4      2030.0   ham  Subject: re : indian springs\\r\\nthis deal is t...   \n",
       "\n",
       "   label_num  \n",
       "0        0.0  \n",
       "1        0.0  \n",
       "2        0.0  \n",
       "3        1.0  \n",
       "4        0.0  "
      ]
     },
     "execution_count": 5,
     "metadata": {},
     "output_type": "execute_result"
    }
   ],
   "source": [
    "Data.head(5)"
   ]
  },
  {
   "cell_type": "code",
   "execution_count": 6,
   "id": "aa26fa1e",
   "metadata": {},
   "outputs": [],
   "source": [
    "Data.rename(columns={'label':'Target','text':'Messeges'},inplace=True)"
   ]
  },
  {
   "cell_type": "code",
   "execution_count": 7,
   "id": "262e06ca",
   "metadata": {},
   "outputs": [],
   "source": [
    "Data=Data[['Target','Messeges']]"
   ]
  },
  {
   "cell_type": "code",
   "execution_count": 8,
   "id": "4c25611e",
   "metadata": {},
   "outputs": [],
   "source": [
    "Data['Target'].replace({'ham':'not spam'},inplace=True)"
   ]
  },
  {
   "cell_type": "code",
   "execution_count": 9,
   "id": "12a928e4",
   "metadata": {},
   "outputs": [
    {
     "data": {
      "text/html": [
       "<div>\n",
       "<style scoped>\n",
       "    .dataframe tbody tr th:only-of-type {\n",
       "        vertical-align: middle;\n",
       "    }\n",
       "\n",
       "    .dataframe tbody tr th {\n",
       "        vertical-align: top;\n",
       "    }\n",
       "\n",
       "    .dataframe thead th {\n",
       "        text-align: right;\n",
       "    }\n",
       "</style>\n",
       "<table border=\"1\" class=\"dataframe\">\n",
       "  <thead>\n",
       "    <tr style=\"text-align: right;\">\n",
       "      <th></th>\n",
       "      <th>Target</th>\n",
       "      <th>Messeges</th>\n",
       "    </tr>\n",
       "  </thead>\n",
       "  <tbody>\n",
       "    <tr>\n",
       "      <th>0</th>\n",
       "      <td>not spam</td>\n",
       "      <td>Subject: enron methanol ; meter # : 988291\\r\\n...</td>\n",
       "    </tr>\n",
       "    <tr>\n",
       "      <th>1</th>\n",
       "      <td>not spam</td>\n",
       "      <td>Subject: hpl nom for january 9 , 2001\\r\\n( see...</td>\n",
       "    </tr>\n",
       "    <tr>\n",
       "      <th>2</th>\n",
       "      <td>not spam</td>\n",
       "      <td>Subject: neon retreat\\r\\nho ho ho , we ' re ar...</td>\n",
       "    </tr>\n",
       "    <tr>\n",
       "      <th>3</th>\n",
       "      <td>spam</td>\n",
       "      <td>Subject: photoshop , windows , office . cheap ...</td>\n",
       "    </tr>\n",
       "    <tr>\n",
       "      <th>4</th>\n",
       "      <td>not spam</td>\n",
       "      <td>Subject: re : indian springs\\r\\nthis deal is t...</td>\n",
       "    </tr>\n",
       "  </tbody>\n",
       "</table>\n",
       "</div>"
      ],
      "text/plain": [
       "     Target                                           Messeges\n",
       "0  not spam  Subject: enron methanol ; meter # : 988291\\r\\n...\n",
       "1  not spam  Subject: hpl nom for january 9 , 2001\\r\\n( see...\n",
       "2  not spam  Subject: neon retreat\\r\\nho ho ho , we ' re ar...\n",
       "3      spam  Subject: photoshop , windows , office . cheap ...\n",
       "4  not spam  Subject: re : indian springs\\r\\nthis deal is t..."
      ]
     },
     "execution_count": 9,
     "metadata": {},
     "output_type": "execute_result"
    }
   ],
   "source": [
    "Data.head(5)"
   ]
  },
  {
   "cell_type": "code",
   "execution_count": 10,
   "id": "01765789",
   "metadata": {
    "scrolled": true
   },
   "outputs": [
    {
     "data": {
      "text/html": [
       "<div>\n",
       "<style scoped>\n",
       "    .dataframe tbody tr th:only-of-type {\n",
       "        vertical-align: middle;\n",
       "    }\n",
       "\n",
       "    .dataframe tbody tr th {\n",
       "        vertical-align: top;\n",
       "    }\n",
       "\n",
       "    .dataframe thead th {\n",
       "        text-align: right;\n",
       "    }\n",
       "</style>\n",
       "<table border=\"1\" class=\"dataframe\">\n",
       "  <thead>\n",
       "    <tr style=\"text-align: right;\">\n",
       "      <th></th>\n",
       "      <th>Target</th>\n",
       "      <th>Messeges</th>\n",
       "    </tr>\n",
       "  </thead>\n",
       "  <tbody>\n",
       "    <tr>\n",
       "      <th>10740</th>\n",
       "      <td>spam</td>\n",
       "      <td>This is the 2nd time we have tried 2 contact u...</td>\n",
       "    </tr>\n",
       "    <tr>\n",
       "      <th>10741</th>\n",
       "      <td>not spam</td>\n",
       "      <td>Will Ì_ b going to esplanade fr home?</td>\n",
       "    </tr>\n",
       "    <tr>\n",
       "      <th>10742</th>\n",
       "      <td>not spam</td>\n",
       "      <td>Pity, * was in mood for that. So...any other s...</td>\n",
       "    </tr>\n",
       "    <tr>\n",
       "      <th>10743</th>\n",
       "      <td>not spam</td>\n",
       "      <td>The guy did some bitching but I acted like i'd...</td>\n",
       "    </tr>\n",
       "    <tr>\n",
       "      <th>10744</th>\n",
       "      <td>not spam</td>\n",
       "      <td>Rofl. Its true to its name</td>\n",
       "    </tr>\n",
       "  </tbody>\n",
       "</table>\n",
       "</div>"
      ],
      "text/plain": [
       "         Target                                           Messeges\n",
       "10740      spam  This is the 2nd time we have tried 2 contact u...\n",
       "10741  not spam              Will Ì_ b going to esplanade fr home?\n",
       "10742  not spam  Pity, * was in mood for that. So...any other s...\n",
       "10743  not spam  The guy did some bitching but I acted like i'd...\n",
       "10744  not spam                         Rofl. Its true to its name"
      ]
     },
     "execution_count": 10,
     "metadata": {},
     "output_type": "execute_result"
    }
   ],
   "source": [
    "Data.tail(5)"
   ]
  },
  {
   "cell_type": "markdown",
   "id": "ebd03daa",
   "metadata": {},
   "source": [
    "# To check duplicate"
   ]
  },
  {
   "cell_type": "code",
   "execution_count": 11,
   "id": "6fedbe2a",
   "metadata": {},
   "outputs": [
    {
     "name": "stdout",
     "output_type": "stream",
     "text": [
      "Data is haveing :- 581 duplicate values\n"
     ]
    }
   ],
   "source": [
    "duplicate=Data.duplicated().sum()\n",
    "print('Data is haveing :-' ,duplicate,'duplicate values')"
   ]
  },
  {
   "cell_type": "code",
   "execution_count": 12,
   "id": "cecd1496",
   "metadata": {},
   "outputs": [
    {
     "data": {
      "text/plain": [
       "(10745, 2)"
      ]
     },
     "execution_count": 12,
     "metadata": {},
     "output_type": "execute_result"
    }
   ],
   "source": [
    "Data.shape"
   ]
  },
  {
   "cell_type": "markdown",
   "id": "06b5469a",
   "metadata": {},
   "source": [
    "# Remove Duplicate Rows"
   ]
  },
  {
   "cell_type": "code",
   "execution_count": 13,
   "id": "c5407ea3",
   "metadata": {},
   "outputs": [
    {
     "name": "stdout",
     "output_type": "stream",
     "text": [
      "Data is haveing :- 0 duplicate values\n"
     ]
    }
   ],
   "source": [
    "Data.drop_duplicates(inplace=True,keep='first')\n",
    "duplicate=Data.duplicated().sum()\n",
    "print('Data is haveing :-' ,duplicate,'duplicate values')"
   ]
  },
  {
   "cell_type": "code",
   "execution_count": 14,
   "id": "d1856f03",
   "metadata": {},
   "outputs": [
    {
     "data": {
      "text/plain": [
       "(10164, 2)"
      ]
     },
     "execution_count": 14,
     "metadata": {},
     "output_type": "execute_result"
    }
   ],
   "source": [
    "Data.shape"
   ]
  },
  {
   "cell_type": "markdown",
   "id": "4c53d480",
   "metadata": {},
   "source": [
    "# MissingValue in Data"
   ]
  },
  {
   "cell_type": "code",
   "execution_count": 15,
   "id": "e0ab47c6",
   "metadata": {},
   "outputs": [
    {
     "data": {
      "text/plain": [
       "Target      1\n",
       "Messeges    1\n",
       "dtype: int64"
      ]
     },
     "execution_count": 15,
     "metadata": {},
     "output_type": "execute_result"
    }
   ],
   "source": [
    "Data.isnull().sum()"
   ]
  },
  {
   "cell_type": "code",
   "execution_count": 18,
   "id": "c04706e5",
   "metadata": {},
   "outputs": [],
   "source": [
    "Data.dropna(inplace=True)"
   ]
  },
  {
   "cell_type": "code",
   "execution_count": 19,
   "id": "397ae97d",
   "metadata": {},
   "outputs": [
    {
     "data": {
      "text/plain": [
       "Target      0\n",
       "Messeges    0\n",
       "dtype: int64"
      ]
     },
     "execution_count": 19,
     "metadata": {},
     "output_type": "execute_result"
    }
   ],
   "source": [
    "Data.isnull().sum()"
   ]
  },
  {
   "cell_type": "markdown",
   "id": "ffb7d910",
   "metadata": {},
   "source": [
    "# Encoding_Target_column"
   ]
  },
  {
   "cell_type": "code",
   "execution_count": 20,
   "id": "6a1b76c8",
   "metadata": {},
   "outputs": [],
   "source": [
    "\"0='not_spam'\"\n",
    "\"1='spam'\"\n",
    "\n",
    "Data['Target'].replace({'spam':1,'not spam':0},inplace=True)"
   ]
  },
  {
   "cell_type": "code",
   "execution_count": 21,
   "id": "2d572f2d",
   "metadata": {},
   "outputs": [
    {
     "data": {
      "text/html": [
       "<div>\n",
       "<style scoped>\n",
       "    .dataframe tbody tr th:only-of-type {\n",
       "        vertical-align: middle;\n",
       "    }\n",
       "\n",
       "    .dataframe tbody tr th {\n",
       "        vertical-align: top;\n",
       "    }\n",
       "\n",
       "    .dataframe thead th {\n",
       "        text-align: right;\n",
       "    }\n",
       "</style>\n",
       "<table border=\"1\" class=\"dataframe\">\n",
       "  <thead>\n",
       "    <tr style=\"text-align: right;\">\n",
       "      <th></th>\n",
       "      <th>Target</th>\n",
       "      <th>Messeges</th>\n",
       "    </tr>\n",
       "  </thead>\n",
       "  <tbody>\n",
       "    <tr>\n",
       "      <th>0</th>\n",
       "      <td>0</td>\n",
       "      <td>Subject: enron methanol ; meter # : 988291\\r\\n...</td>\n",
       "    </tr>\n",
       "    <tr>\n",
       "      <th>1</th>\n",
       "      <td>0</td>\n",
       "      <td>Subject: hpl nom for january 9 , 2001\\r\\n( see...</td>\n",
       "    </tr>\n",
       "    <tr>\n",
       "      <th>2</th>\n",
       "      <td>0</td>\n",
       "      <td>Subject: neon retreat\\r\\nho ho ho , we ' re ar...</td>\n",
       "    </tr>\n",
       "    <tr>\n",
       "      <th>3</th>\n",
       "      <td>1</td>\n",
       "      <td>Subject: photoshop , windows , office . cheap ...</td>\n",
       "    </tr>\n",
       "    <tr>\n",
       "      <th>4</th>\n",
       "      <td>0</td>\n",
       "      <td>Subject: re : indian springs\\r\\nthis deal is t...</td>\n",
       "    </tr>\n",
       "    <tr>\n",
       "      <th>5</th>\n",
       "      <td>0</td>\n",
       "      <td>Subject: ehronline web address change\\r\\nthis ...</td>\n",
       "    </tr>\n",
       "    <tr>\n",
       "      <th>6</th>\n",
       "      <td>0</td>\n",
       "      <td>Subject: spring savings certificate - take 30 ...</td>\n",
       "    </tr>\n",
       "    <tr>\n",
       "      <th>7</th>\n",
       "      <td>1</td>\n",
       "      <td>Subject: looking for medication ? we ` re the ...</td>\n",
       "    </tr>\n",
       "    <tr>\n",
       "      <th>8</th>\n",
       "      <td>0</td>\n",
       "      <td>Subject: noms / actual flow for 2 / 26\\r\\nwe a...</td>\n",
       "    </tr>\n",
       "    <tr>\n",
       "      <th>9</th>\n",
       "      <td>0</td>\n",
       "      <td>Subject: nominations for oct . 21 - 23 , 2000\\...</td>\n",
       "    </tr>\n",
       "  </tbody>\n",
       "</table>\n",
       "</div>"
      ],
      "text/plain": [
       "   Target                                           Messeges\n",
       "0       0  Subject: enron methanol ; meter # : 988291\\r\\n...\n",
       "1       0  Subject: hpl nom for january 9 , 2001\\r\\n( see...\n",
       "2       0  Subject: neon retreat\\r\\nho ho ho , we ' re ar...\n",
       "3       1  Subject: photoshop , windows , office . cheap ...\n",
       "4       0  Subject: re : indian springs\\r\\nthis deal is t...\n",
       "5       0  Subject: ehronline web address change\\r\\nthis ...\n",
       "6       0  Subject: spring savings certificate - take 30 ...\n",
       "7       1  Subject: looking for medication ? we ` re the ...\n",
       "8       0  Subject: noms / actual flow for 2 / 26\\r\\nwe a...\n",
       "9       0  Subject: nominations for oct . 21 - 23 , 2000\\..."
      ]
     },
     "execution_count": 21,
     "metadata": {},
     "output_type": "execute_result"
    }
   ],
   "source": [
    "Data.head(10)"
   ]
  },
  {
   "cell_type": "code",
   "execution_count": 22,
   "id": "73b92e5e",
   "metadata": {},
   "outputs": [],
   "source": [
    "stop_words=set(stopwords.words('english'))\n",
    "poctuation=string.punctuation"
   ]
  },
  {
   "cell_type": "code",
   "execution_count": 23,
   "id": "12945961",
   "metadata": {},
   "outputs": [],
   "source": [
    "def Text_processing(text):\n",
    "    process_text=[]\n",
    "    tk=nltk.word_tokenize(text)\n",
    "    stop_words=set(stopwords.words('english'))\n",
    "    for i in tk:\n",
    "        i=i.lower()\n",
    "        if ((i not in stop_words) & (i not in string.punctuation)):\n",
    "            la=WordNetLemmatizer()\n",
    "            i=la.lemmatize(i)\n",
    "            process_text.append(i)\n",
    "    return  process_text\n",
    "            \n",
    "            \n",
    "    \n",
    "    "
   ]
  },
  {
   "cell_type": "code",
   "execution_count": 24,
   "id": "7b75e254",
   "metadata": {},
   "outputs": [],
   "source": [
    "Data['Processed_Text']=Data['Messeges'].apply(Text_processing)"
   ]
  },
  {
   "cell_type": "code",
   "execution_count": 25,
   "id": "414f49f0",
   "metadata": {},
   "outputs": [],
   "source": [
    "Data['Processed_Text']=Data['Processed_Text'].apply(lambda x:' '.join(x))"
   ]
  },
  {
   "cell_type": "code",
   "execution_count": 26,
   "id": "83a24192",
   "metadata": {},
   "outputs": [
    {
     "data": {
      "text/html": [
       "<div>\n",
       "<style scoped>\n",
       "    .dataframe tbody tr th:only-of-type {\n",
       "        vertical-align: middle;\n",
       "    }\n",
       "\n",
       "    .dataframe tbody tr th {\n",
       "        vertical-align: top;\n",
       "    }\n",
       "\n",
       "    .dataframe thead th {\n",
       "        text-align: right;\n",
       "    }\n",
       "</style>\n",
       "<table border=\"1\" class=\"dataframe\">\n",
       "  <thead>\n",
       "    <tr style=\"text-align: right;\">\n",
       "      <th></th>\n",
       "      <th>Target</th>\n",
       "      <th>Messeges</th>\n",
       "      <th>Processed_Text</th>\n",
       "    </tr>\n",
       "  </thead>\n",
       "  <tbody>\n",
       "    <tr>\n",
       "      <th>0</th>\n",
       "      <td>0</td>\n",
       "      <td>Subject: enron methanol ; meter # : 988291\\r\\n...</td>\n",
       "      <td>subject enron methanol meter 988291 follow not...</td>\n",
       "    </tr>\n",
       "    <tr>\n",
       "      <th>1</th>\n",
       "      <td>0</td>\n",
       "      <td>Subject: hpl nom for january 9 , 2001\\r\\n( see...</td>\n",
       "      <td>subject hpl nom january 9 2001 see attached fi...</td>\n",
       "    </tr>\n",
       "    <tr>\n",
       "      <th>2</th>\n",
       "      <td>0</td>\n",
       "      <td>Subject: neon retreat\\r\\nho ho ho , we ' re ar...</td>\n",
       "      <td>subject neon retreat ho ho ho around wonderful...</td>\n",
       "    </tr>\n",
       "    <tr>\n",
       "      <th>3</th>\n",
       "      <td>1</td>\n",
       "      <td>Subject: photoshop , windows , office . cheap ...</td>\n",
       "      <td>subject photoshop window office cheap main tre...</td>\n",
       "    </tr>\n",
       "    <tr>\n",
       "      <th>4</th>\n",
       "      <td>0</td>\n",
       "      <td>Subject: re : indian springs\\r\\nthis deal is t...</td>\n",
       "      <td>subject indian spring deal book teco pvr reven...</td>\n",
       "    </tr>\n",
       "  </tbody>\n",
       "</table>\n",
       "</div>"
      ],
      "text/plain": [
       "   Target                                           Messeges  \\\n",
       "0       0  Subject: enron methanol ; meter # : 988291\\r\\n...   \n",
       "1       0  Subject: hpl nom for january 9 , 2001\\r\\n( see...   \n",
       "2       0  Subject: neon retreat\\r\\nho ho ho , we ' re ar...   \n",
       "3       1  Subject: photoshop , windows , office . cheap ...   \n",
       "4       0  Subject: re : indian springs\\r\\nthis deal is t...   \n",
       "\n",
       "                                      Processed_Text  \n",
       "0  subject enron methanol meter 988291 follow not...  \n",
       "1  subject hpl nom january 9 2001 see attached fi...  \n",
       "2  subject neon retreat ho ho ho around wonderful...  \n",
       "3  subject photoshop window office cheap main tre...  \n",
       "4  subject indian spring deal book teco pvr reven...  "
      ]
     },
     "execution_count": 26,
     "metadata": {},
     "output_type": "execute_result"
    }
   ],
   "source": [
    "Data.head(5)"
   ]
  },
  {
   "cell_type": "code",
   "execution_count": 27,
   "id": "bde68479",
   "metadata": {},
   "outputs": [
    {
     "data": {
      "text/plain": [
       "(10163, 3)"
      ]
     },
     "execution_count": 27,
     "metadata": {},
     "output_type": "execute_result"
    }
   ],
   "source": [
    "Data.shape"
   ]
  },
  {
   "cell_type": "markdown",
   "id": "f72353b1",
   "metadata": {},
   "source": [
    "# Conver Text in Vector"
   ]
  },
  {
   "cell_type": "markdown",
   "id": "39f4fc7d",
   "metadata": {},
   "source": [
    "# Count_Vectoriztion"
   ]
  },
  {
   "cell_type": "code",
   "execution_count": 28,
   "id": "b856e3a3",
   "metadata": {},
   "outputs": [],
   "source": [
    "Cv=CountVectorizer(stop_words='english',)"
   ]
  },
  {
   "cell_type": "code",
   "execution_count": 29,
   "id": "fb71752a",
   "metadata": {},
   "outputs": [],
   "source": [
    "Cv_text=Cv.fit_transform(Data['Processed_Text']).toarray()"
   ]
  },
  {
   "cell_type": "code",
   "execution_count": 30,
   "id": "10feb0d1",
   "metadata": {},
   "outputs": [
    {
     "data": {
      "text/plain": [
       "{'subject': 44263,\n",
       " 'enron': 19223,\n",
       " 'methanol': 31644,\n",
       " 'meter': 31638,\n",
       " '988291': 5315,\n",
       " 'follow': 21317,\n",
       " 'note': 33891,\n",
       " 'gave': 22243,\n",
       " 'monday': 32338,\n",
       " '00': 0,\n",
       " 'preliminary': 37390,\n",
       " 'flow': 21207,\n",
       " 'data': 15846,\n",
       " 'provided': 37910,\n",
       " 'daren': 15786,\n",
       " 'override': 35187,\n",
       " 'pop': 37011,\n",
       " 'daily': 15687,\n",
       " 'volume': 48673,\n",
       " 'presently': 37454,\n",
       " 'zero': 51070,\n",
       " 'reflect': 39339,\n",
       " 'activity': 5842,\n",
       " 'obtain': 34244,\n",
       " 'gas': 22190,\n",
       " 'control': 14509,\n",
       " 'change': 12549,\n",
       " 'needed': 33273,\n",
       " 'asap': 7909,\n",
       " 'economics': 18420,\n",
       " 'purpose': 38152,\n",
       " 'hpl': 24987,\n",
       " 'nom': 33767,\n",
       " 'january': 27170,\n",
       " '2001': 1463,\n",
       " 'attached': 8193,\n",
       " 'file': 20865,\n",
       " 'hplnol': 24994,\n",
       " '09': 383,\n",
       " 'xl': 50377,\n",
       " 'neon': 33338,\n",
       " 'retreat': 39958,\n",
       " 'ho': 24645,\n",
       " 'wonderful': 49841,\n",
       " 'time': 45927,\n",
       " 'year': 50656,\n",
       " 'leader': 29192,\n",
       " 'know': 28497,\n",
       " 'extremely': 20231,\n",
       " 'hectic': 24154,\n",
       " 'tough': 46322,\n",
       " 'think': 45703,\n",
       " 'past': 35638,\n",
       " 'holiday': 24698,\n",
       " 'life': 29526,\n",
       " 'week': 49227,\n",
       " 'december': 16076,\n",
       " '25': 1770,\n",
       " 'like': 29571,\n",
       " 'minute': 31983,\n",
       " 'calender': 11591,\n",
       " 'handed': 23769,\n",
       " 'beginning': 9303,\n",
       " 'fall': 20379,\n",
       " 'semester': 41741,\n",
       " 'scheduled': 41318,\n",
       " 'weekend': 49230,\n",
       " 'youth': 50850,\n",
       " 'minister': 31954,\n",
       " 'conference': 14174,\n",
       " 'brad': 10598,\n",
       " 'dustin': 18146,\n",
       " 'connected': 14283,\n",
       " 'going': 22915,\n",
       " 'date': 15853,\n",
       " 'following': 21320,\n",
       " '12': 749,\n",
       " '13': 845,\n",
       " 'come': 13800,\n",
       " 'need': 33271,\n",
       " 'agree': 6323,\n",
       " 'important': 25804,\n",
       " 'recharge': 39131,\n",
       " 'battery': 9046,\n",
       " 'far': 20424,\n",
       " 'spring': 43529,\n",
       " 'lot': 30075,\n",
       " 'trouble': 46718,\n",
       " 'difficult': 16958,\n",
       " 'away': 8514,\n",
       " 'kid': 28279,\n",
       " 'came': 11670,\n",
       " 'potential': 37165,\n",
       " 'alternative': 6819,\n",
       " 'let': 29401,\n",
       " 'prefer': 37372,\n",
       " 'option': 34827,\n",
       " 'similar': 42482,\n",
       " 'heartland': 24126,\n",
       " 'country': 14867,\n",
       " 'inn': 26312,\n",
       " 'www': 50164,\n",
       " 'com': 13770,\n",
       " 'outside': 35109,\n",
       " 'brenham': 10759,\n",
       " 'nice': 33533,\n",
       " 'place': 36620,\n",
       " 'bedroom': 9255,\n",
       " 'house': 24949,\n",
       " 'real': 39018,\n",
       " 'relaxing': 39507,\n",
       " 'close': 13398,\n",
       " 'hour': 24945,\n",
       " '15': 1097,\n",
       " 'golf': 22939,\n",
       " 'shop': 42247,\n",
       " 'antique': 7337,\n",
       " 'craft': 14999,\n",
       " 'store': 44027,\n",
       " 'eat': 18341,\n",
       " 'dinner': 17033,\n",
       " 'ranch': 38834,\n",
       " 'spend': 43403,\n",
       " 'meet': 31403,\n",
       " 'saturday': 41188,\n",
       " 'return': 39976,\n",
       " 'sunday': 44441,\n",
       " 'morning': 32490,\n",
       " 'second': 41601,\n",
       " 'stay': 43820,\n",
       " 'houston': 24960,\n",
       " 'restaurant': 39884,\n",
       " 'dessert': 16634,\n",
       " 'visiting': 48508,\n",
       " 'recharging': 39135,\n",
       " 'home': 24739,\n",
       " 'evening': 19817,\n",
       " 'easier': 18320,\n",
       " 'trade': 46397,\n",
       " 'decide': 16083,\n",
       " 'email': 18891,\n",
       " 'preference': 37375,\n",
       " 'course': 14884,\n",
       " 'available': 8428,\n",
       " 'democratic': 16392,\n",
       " 'process': 37650,\n",
       " 'prevail': 37503,\n",
       " 'majority': 30623,\n",
       " 'vote': 48703,\n",
       " 'rule': 40770,\n",
       " 'hear': 24110,\n",
       " 'soon': 43181,\n",
       " 'possible': 37116,\n",
       " 'preferably': 37373,\n",
       " 'end': 19095,\n",
       " 'way': 49108,\n",
       " 'complaining': 13975,\n",
       " 'allowed': 6749,\n",
       " 'tend': 45369,\n",
       " 'great': 23224,\n",
       " 'fishing': 21016,\n",
       " 'shopping': 42252,\n",
       " 'make': 30630,\n",
       " 'happy': 23858,\n",
       " 'bobby': 10250,\n",
       " 'photoshop': 36342,\n",
       " 'window': 49609,\n",
       " 'office': 34391,\n",
       " 'cheap': 12664,\n",
       " 'main': 30600,\n",
       " 'trending': 46600,\n",
       " 'abasement': 5440,\n",
       " 'darer': 15788,\n",
       " 'prudently': 37947,\n",
       " 'fortuitous': 21502,\n",
       " 'undergone': 47364,\n",
       " 'lighthearted': 29558,\n",
       " 'charm': 12615,\n",
       " 'orinoco': 34942,\n",
       " 'taster': 45113,\n",
       " 'railroad': 38780,\n",
       " 'affluent': 6194,\n",
       " 'pornographic': 37053,\n",
       " 'cuvier': 15519,\n",
       " 'irvin': 26852,\n",
       " 'parkhouse': 35545,\n",
       " 'blameworthy': 10011,\n",
       " 'chlorophyll': 12863,\n",
       " 'robed': 40412,\n",
       " 'diagrammatic': 16852,\n",
       " 'fogarty': 21291,\n",
       " 'clear': 13286,\n",
       " 'bayda': 9074,\n",
       " 'inconveniencing': 25982,\n",
       " 'managing': 30712,\n",
       " 'represented': 39725,\n",
       " 'smartness': 42849,\n",
       " 'hashish': 23947,\n",
       " 'academy': 5614,\n",
       " 'shareholder': 42052,\n",
       " 'unload': 47491,\n",
       " 'badness': 8693,\n",
       " 'danielson': 15760,\n",
       " 'pure': 38133,\n",
       " 'caffein': 11539,\n",
       " 'spaniard': 43298,\n",
       " 'chargeable': 12587,\n",
       " 'levin': 29431,\n",
       " 'indian': 26055,\n",
       " 'deal': 16000,\n",
       " 'book': 10364,\n",
       " 'teco': 45263,\n",
       " 'pvr': 38199,\n",
       " 'revenue': 39998,\n",
       " 'understanding': 47378,\n",
       " 'sends': 41765,\n",
       " 'check': 12675,\n",
       " 'received': 39114,\n",
       " 'answer': 7280,\n",
       " 'predermined': 37347,\n",
       " 'price': 37526,\n",
       " 'associated': 8047,\n",
       " 'giving': 22685,\n",
       " 'continue': 14461,\n",
       " 'chase': 12632,\n",
       " 'ehronline': 18640,\n",
       " 'web': 49191,\n",
       " 'address': 5921,\n",
       " 'message': 31607,\n",
       " 'intended': 26483,\n",
       " 'user': 47754,\n",
       " 'recent': 39122,\n",
       " 'url': 47721,\n",
       " 'aka': 6491,\n",
       " 'accessing': 5644,\n",
       " 'changed': 12551,\n",
       " 'computer': 14052,\n",
       " 'involves': 26719,\n",
       " 'adding': 5908,\n",
       " 'letter': 29408,\n",
       " 'http': 25080,\n",
       " 'reference': 39315,\n",
       " 'added': 5901,\n",
       " 'favorite': 20505,\n",
       " 'browser': 10965,\n",
       " 'saving': 41214,\n",
       " 'certificate': 12430,\n",
       " '30': 2066,\n",
       " 'save': 41206,\n",
       " 'use': 47746,\n",
       " 'customer': 15483,\n",
       " 'appreciation': 7536,\n",
       " 'foot': 21367,\n",
       " 'locker': 29894,\n",
       " 'lady': 28846,\n",
       " 'online': 34660,\n",
       " 'welcome': 49272,\n",
       " 'special': 43340,\n",
       " 'receive': 39112,\n",
       " 'purchase': 38127,\n",
       " 'hurry': 25180,\n",
       " 'day': 15893,\n",
       " 'sale': 40992,\n",
       " 'begin': 9300,\n",
       " 'thursday': 45844,\n",
       " 'march': 30821,\n",
       " '22': 1597,\n",
       " 'share': 42047,\n",
       " 'today': 46141,\n",
       " 'mail': 30585,\n",
       " 'offer': 34378,\n",
       " 'friend': 21716,\n",
       " 'item': 26942,\n",
       " 'reduced': 39278,\n",
       " 'discount': 17142,\n",
       " 'taken': 44992,\n",
       " 'lowest': 30140,\n",
       " 'click': 13331,\n",
       " 'print': 37573,\n",
       " 'present': 37448,\n",
       " 'coupon': 14880,\n",
       " 'canada': 11711,\n",
       " 'participating': 35587,\n",
       " 'program': 37735,\n",
       " 'ready': 39012,\n",
       " 'set': 41885,\n",
       " 'automatically': 8388,\n",
       " 'appear': 7472,\n",
       " 'link': 29644,\n",
       " 'type': 47055,\n",
       " 'camlem': 11685,\n",
       " '21': 1545,\n",
       " 'promotion': 37787,\n",
       " 'code': 13592,\n",
       " 'box': 10515,\n",
       " 'checkout': 12688,\n",
       " 'footlocker': 21375,\n",
       " 'ladyfootlocker': 28848,\n",
       " 'kidsfootlocker': 28285,\n",
       " 'remember': 39567,\n",
       " 'hassle': 23951,\n",
       " 'free': 21645,\n",
       " 'simply': 42509,\n",
       " 'bring': 10849,\n",
       " 'nationwide': 33126,\n",
       " 'left': 29275,\n",
       " 'register': 39409,\n",
       " 'learn': 29217,\n",
       " 'new': 33422,\n",
       " 'product': 37676,\n",
       " 'event': 19820,\n",
       " 'term': 45418,\n",
       " 'condition': 14141,\n",
       " 'exclusion': 19967,\n",
       " 'apply': 7511,\n",
       " 'manager': 30709,\n",
       " 'complete': 13984,\n",
       " 'presented': 37451,\n",
       " 'used': 47748,\n",
       " 'conjunction': 14273,\n",
       " 'associate': 8046,\n",
       " 'benefit': 9445,\n",
       " 'redeemable': 39241,\n",
       " 'cash': 12047,\n",
       " 'applicable': 7503,\n",
       " 'tax': 45134,\n",
       " 'paid': 35351,\n",
       " 'bearer': 9188,\n",
       " 'applied': 7509,\n",
       " 'prior': 37579,\n",
       " 'gift': 22601,\n",
       " 'card': 11884,\n",
       " 'void': 48647,\n",
       " 'prohibited': 37747,\n",
       " 'licensed': 29502,\n",
       " 'regulated': 39431,\n",
       " 'catalog': 12095,\n",
       " 'valid': 47957,\n",
       " '01': 59,\n",
       " 'participate': 35585,\n",
       " 'wish': 49675,\n",
       " 'future': 21950,\n",
       " 'unsubscribe': 47556,\n",
       " 'looking': 30012,\n",
       " 'medication': 31351,\n",
       " 'best': 9572,\n",
       " 'source': 43242,\n",
       " 'material': 31026,\n",
       " 'better': 9609,\n",
       " 'law': 29097,\n",
       " 'easy': 18338,\n",
       " 'ruin': 40766,\n",
       " 'bad': 8681,\n",
       " 'excuse': 19981,\n",
       " 'simpliest': 42504,\n",
       " 'site': 42580,\n",
       " 'net': 33365,\n",
       " 'perscription': 36036,\n",
       " 'delivery': 16341,\n",
       " 'private': 37597,\n",
       " 'secure': 41621,\n",
       " 'rightly': 40205,\n",
       " 'pound': 37185,\n",
       " 'squint': 43608,\n",
       " 'million': 31887,\n",
       " 'got': 23036,\n",
       " 'want': 48984,\n",
       " 'erection': 19491,\n",
       " 'treatment': 46578,\n",
       " 'pill': 36473,\n",
       " 'anti': 7311,\n",
       " 'depressant': 16515,\n",
       " 'weight': 49245,\n",
       " 'loss': 30073,\n",
       " 'splicing': 43468,\n",
       " 'bombahakcx': 10325,\n",
       " 'knowledge': 28500,\n",
       " 'human': 25123,\n",
       " 'power': 37204,\n",
       " 'synonymous': 44858,\n",
       " 'high': 24460,\n",
       " 'quality': 38516,\n",
       " 'stuff': 44209,\n",
       " 'low': 30131,\n",
       " 'rate': 38892,\n",
       " '100': 551,\n",
       " 'moneyback': 32353,\n",
       " 'guarantee': 23440,\n",
       " 'god': 22879,\n",
       " 'nature': 33137,\n",
       " 'sufficeth': 44363,\n",
       " 'unto': 47575,\n",
       " 'wise': 49669,\n",
       " 'hath': 23969,\n",
       " 'author': 8358,\n",
       " 'noms': 33793,\n",
       " 'actual': 5850,\n",
       " '26': 1846,\n",
       " 'forwarded': 21508,\n",
       " 'melissa': 31457,\n",
       " 'jones': 27636,\n",
       " 'texas': 45493,\n",
       " 'utility': 47804,\n",
       " '02': 87,\n",
       " '27': 1891,\n",
       " '10': 550,\n",
       " '33': 2226,\n",
       " 'eileen': 18674,\n",
       " 'ponton': 36994,\n",
       " '46': 2936,\n",
       " 'david': 15875,\n",
       " 'avila': 8471,\n",
       " 'lsp': 30211,\n",
       " 'enserch': 19239,\n",
       " 'tu': 46840,\n",
       " 'charlie': 12606,\n",
       " 'stone': 43996,\n",
       " 'scheduling': 41322,\n",
       " 'liz': 29760,\n",
       " 'bellamy': 9370,\n",
       " 'cc': 12224,\n",
       " 'mcf': 31207,\n",
       " 'mmbtu': 32173,\n",
       " '456': 2917,\n",
       " '469': 2980,\n",
       " 'btu': 11065,\n",
       " '027': 103,\n",
       " 'nomination': 33785,\n",
       " 'oct': 34301,\n",
       " '23': 1668,\n",
       " '2000': 1459,\n",
       " 'hplnl': 24992,\n",
       " '021': 95,\n",
       " 'vocable': 48628,\n",
       " 'rnd': 40379,\n",
       " 'word': 49887,\n",
       " 'asceticism': 7919,\n",
       " 'vcsc': 48113,\n",
       " 'brand': 10637,\n",
       " 'stock': 43968,\n",
       " 'attention': 8217,\n",
       " 'vocalscape': 48631,\n",
       " 'symbol': 44823,\n",
       " 'pick': 36400,\n",
       " 'month': 32419,\n",
       " 'april': 7569,\n",
       " 'expected': 20062,\n",
       " 'bounce': 10482,\n",
       " 'cent': 12361,\n",
       " 'level': 29423,\n",
       " 'hit': 24568,\n",
       " 'explode': 20132,\n",
       " 'watch': 49061,\n",
       " 'soar': 43006,\n",
       " 'crazy': 15049,\n",
       " 'breaking': 10721,\n",
       " 'news': 33445,\n",
       " 'announces': 7233,\n",
       " 'agreement': 6328,\n",
       " 'resell': 39789,\n",
       " 'mix': 32100,\n",
       " 'network': 33391,\n",
       " 'service': 41870,\n",
       " 'current': 15442,\n",
       " '025': 99,\n",
       " 'expect': 20058,\n",
       " 'projected': 37753,\n",
       " 'speculative': 43378,\n",
       " 'building': 11144,\n",
       " 'company': 13920,\n",
       " 'revolutionizing': 40038,\n",
       " 'telecommunication': 45303,\n",
       " 'industry': 26117,\n",
       " 'affordable': 6196,\n",
       " 'phone': 36310,\n",
       " 'hardware': 23887,\n",
       " 'software': 43056,\n",
       " 'global': 22779,\n",
       " 'reach': 38994,\n",
       " 'receiving': 39118,\n",
       " 'international': 26545,\n",
       " 'development': 16723,\n",
       " 'voice': 48644,\n",
       " 'ip': 26747,\n",
       " 'voip': 48649,\n",
       " 'application': 7507,\n",
       " 'solution': 43113,\n",
       " 'including': 25951,\n",
       " 'award': 8508,\n",
       " 'winning': 49640,\n",
       " 'eyefontm': 20256,\n",
       " 'softphone': 43052,\n",
       " 'pc': 35773,\n",
       " 'advanced': 6068,\n",
       " 'implementer': 25788,\n",
       " 'pbx': 35771,\n",
       " 'center': 12367,\n",
       " 'itsps': 26969,\n",
       " 'provider': 37912,\n",
       " 'created': 15066,\n",
       " 'interactive': 26498,\n",
       " 'revolving': 40041,\n",
       " 'communication': 13902,\n",
       " 'convergence': 14530,\n",
       " 'internet': 26552,\n",
       " 'protocol': 37885,\n",
       " 'pbxs': 35772,\n",
       " 'softswitches': 43053,\n",
       " 'providing': 37914,\n",
       " 'interaction': 26497,\n",
       " 'information': 26219,\n",
       " 'business': 11298,\n",
       " 'world': 49932,\n",
       " 'significantly': 42436,\n",
       " 'lower': 30132,\n",
       " 'long': 29985,\n",
       " 'distance': 17273,\n",
       " 'charge': 12586,\n",
       " 'develop': 16717,\n",
       " 'run': 40783,\n",
       " 'sell': 41726,\n",
       " 'install': 26398,\n",
       " 'branded': 10640,\n",
       " 'gateway': 22219,\n",
       " 'gatekeeper': 22218,\n",
       " 'license': 29501,\n",
       " 'committed': 13877,\n",
       " 'making': 30640,\n",
       " 'technology': 45257,\n",
       " 'challenging': 12519,\n",
       " 'status': 43815,\n",
       " 'quo': 38631,\n",
       " 'st': 43662,\n",
       " 'century': 12406,\n",
       " 'communicate': 13898,\n",
       " 'interact': 26495,\n",
       " 'katonah': 28050,\n",
       " 'prnewswire': 37616,\n",
       " 'firstcall': 21003,\n",
       " 'comtex': 14066,\n",
       " 'pink': 36501,\n",
       " 'emerging': 18967,\n",
       " 'telephony': 45317,\n",
       " 'announced': 7229,\n",
       " 'entered': 19254,\n",
       " 'agent': 6272,\n",
       " 'enhanced': 19158,\n",
       " 'provides': 37913,\n",
       " 'turnkey': 46917,\n",
       " 'calling': 11631,\n",
       " 'access': 5641,\n",
       " 'north': 33853,\n",
       " 'american': 6935,\n",
       " 'dids': 16917,\n",
       " 'number': 34041,\n",
       " 'domestic': 17598,\n",
       " 'termination': 45426,\n",
       " 'able': 5504,\n",
       " 'supply': 44521,\n",
       " 'client': 13339,\n",
       " 'pre': 37319,\n",
       " 'excited': 19954,\n",
       " 'help': 24234,\n",
       " 'launch': 29065,\n",
       " 'model': 32249,\n",
       " 'using': 47766,\n",
       " 'picture': 36424,\n",
       " 'route': 40605,\n",
       " 'ability': 5496,\n",
       " 'wholesale': 49471,\n",
       " 'monthly': 32421,\n",
       " 'flat': 21107,\n",
       " 'plan': 36640,\n",
       " 'allow': 6747,\n",
       " 'build': 11142,\n",
       " 'popular': 37025,\n",
       " 'vonage': 48690,\n",
       " 'packet': 35323,\n",
       " 'say': 41237,\n",
       " 'ryan': 40868,\n",
       " 'gibson': 22595,\n",
       " 'vp': 48722,\n",
       " 'legal': 29288,\n",
       " 'contains': 14431,\n",
       " 'forward': 21507,\n",
       " 'statement': 43795,\n",
       " 'meaning': 31304,\n",
       " 'section': 41613,\n",
       " 'security': 41627,\n",
       " 'act': 5822,\n",
       " '1933': 1381,\n",
       " 'exchange': 19945,\n",
       " '1934': 1382,\n",
       " 'express': 20163,\n",
       " 'involve': 26716,\n",
       " 'discussion': 17175,\n",
       " 'respect': 39851,\n",
       " 'prediction': 37355,\n",
       " 'goal': 22869,\n",
       " 'expectation': 20061,\n",
       " 'belief': 9357,\n",
       " 'projection': 37755,\n",
       " 'objective': 34207,\n",
       " 'assumption': 8059,\n",
       " 'performance': 35976,\n",
       " 'historical': 24564,\n",
       " 'fact': 20317,\n",
       " 'based': 8973,\n",
       " 'estimate': 19678,\n",
       " 'risk': 40261,\n",
       " 'uncertainty': 47323,\n",
       " 'cause': 12163,\n",
       " 'result': 39912,\n",
       " 'differ': 16947,\n",
       " 'materially': 31030,\n",
       " 'anticipated': 7315,\n",
       " 'action': 5831,\n",
       " 'identified': 25450,\n",
       " 'project': 37752,\n",
       " 'foresee': 21419,\n",
       " 'expects': 20066,\n",
       " 'understands': 47380,\n",
       " 'anticipates': 7316,\n",
       " 'indicating': 26062,\n",
       " 'certain': 12427,\n",
       " 'occur': 34279,\n",
       " 'pertaining': 36078,\n",
       " 'investing': 26680,\n",
       " 'understood': 47383,\n",
       " 'investment': 26687,\n",
       " 'advice': 6092,\n",
       " 'equity': 19464,\n",
       " 'alert': 6585,\n",
       " 'advises': 6100,\n",
       " 'reader': 39007,\n",
       " 'subscriber': 44286,\n",
       " 'seek': 41648,\n",
       " 'registered': 39410,\n",
       " 'professional': 37693,\n",
       " 'representative': 39724,\n",
       " 'deciding': 16087,\n",
       " 'featured': 20580,\n",
       " 'report': 39709,\n",
       " 'shall': 42014,\n",
       " 'construed': 14396,\n",
       " 'kind': 28316,\n",
       " 'mind': 31918,\n",
       " 'interpretation': 26563,\n",
       " 'witer': 49694,\n",
       " 'newsletter': 33451,\n",
       " 'published': 38056,\n",
       " 'represent': 39720,\n",
       " 'official': 34398,\n",
       " 'release': 39511,\n",
       " 'meant': 31309,\n",
       " 'look': 30007,\n",
       " 'judge': 27772,\n",
       " 'compliance': 13997,\n",
       " '17': 1259,\n",
       " 'disclose': 17127,\n",
       " 'holding': 24693,\n",
       " 'publication': 38049,\n",
       " 'aware': 8511,\n",
       " 'inherent': 26264,\n",
       " 'conflict': 14214,\n",
       " 'resulting': 39915,\n",
       " 'intent': 26490,\n",
       " 'profit': 37715,\n",
       " 'liquidation': 29676,\n",
       " 'sold': 43075,\n",
       " 'positive': 37100,\n",
       " 'regarding': 39393,\n",
       " 'opinion': 34770,\n",
       " 'cautioned': 12170,\n",
       " 'undue': 47406,\n",
       " 'reliance': 39520,\n",
       " 'involving': 26720,\n",
       " 'various': 48053,\n",
       " 'forth': 21490,\n",
       " 'advised': 6096,\n",
       " 'constitute': 14379,\n",
       " 'solicitation': 43089,\n",
       " 'invitation': 26698,\n",
       " 'position': 37096,\n",
       " 'mentioned': 31520,\n",
       " 'advisor': 6102,\n",
       " 'affiliated': 6180,\n",
       " 'broker': 10912,\n",
       " 'dealer': 16001,\n",
       " '49000': 3049,\n",
       " 'party': 35606,\n",
       " 'send': 41762,\n",
       " 'treated': 46574,\n",
       " 'includes': 25950,\n",
       " 'litigation': 29729,\n",
       " 'reform': 39353,\n",
       " '1995': 1430,\n",
       " 'include': 25948,\n",
       " 'believe': 9361,\n",
       " 'undervalued': 47390,\n",
       " 'intend': 26481,\n",
       " '01405': 74,\n",
       " 'wffur': 49357,\n",
       " 'attion': 8227,\n",
       " 'brom': 10919,\n",
       " 'est': 19660,\n",
       " 'inst': 26392,\n",
       " 'siupied': 42600,\n",
       " 'pgst': 36186,\n",
       " 'riwe': 40288,\n",
       " 'asently': 7932,\n",
       " 'rest': 39879,\n",
       " 'tont': 46231,\n",
       " 'presyou': 37490,\n",
       " 'tew': 45487,\n",
       " 'benco': 9426,\n",
       " 'yee': 50666,\n",
       " 'fater': 20474,\n",
       " '45': 2867,\n",
       " 'ust': 47775,\n",
       " 'lyughtatums': 30418,\n",
       " 'inenced': 26136,\n",
       " 'sorepit': 43205,\n",
       " 'grathers': 23190,\n",
       " 'aicy': 6377,\n",
       " 'graghteave': 23139,\n",
       " 'allarity': 6689,\n",
       " 'oarity': 34176,\n",
       " 'wow': 49986,\n",
       " 'yur': 50945,\n",
       " 'coon': 14585,\n",
       " '60': 3501,\n",
       " 'mers': 31590,\n",
       " 'oite': 34491,\n",
       " 'ithat': 26949,\n",
       " 'yoit': 50800,\n",
       " 'berst': 9545,\n",
       " 'thar': 45586,\n",
       " 'enth': 19270,\n",
       " 'excives': 19960,\n",
       " '2004': 1471,\n",
       " 'actuals': 5858,\n",
       " 'august': 8303,\n",
       " '28': 1939,\n",
       " 'tap': 45077,\n",
       " '20': 1457,\n",
       " '000': 1,\n",
       " '120': 750,\n",
       " 'lsk': 30207,\n",
       " 'ic': 25389,\n",
       " 'vic': 48337,\n",
       " 'odin': 34332,\n",
       " 'ow': 35225,\n",
       " 'berne': 9527,\n",
       " 'hotbox': 24922,\n",
       " 'carnal': 11955,\n",
       " 'bride': 10801,\n",
       " 'cutworm': 15516,\n",
       " 'dyadic': 18213,\n",
       " 'guardia': 23450,\n",
       " 'continuous': 14467,\n",
       " 'born': 10422,\n",
       " 'gremlin': 23264,\n",
       " 'akin': 6505,\n",
       " 'counterflow': 14848,\n",
       " 'vocabularian': 48629,\n",
       " 'pessimum': 36103,\n",
       " 'yaounde': 50591,\n",
       " 'cannel': 11765,\n",
       " 'bitch': 9913,\n",
       " 'penetrate': 35902,\n",
       " 'demagogue': 16372,\n",
       " 'arbitrary': 7633,\n",
       " 'egregious': 18622,\n",
       " 'adenosine': 5941,\n",
       " 'rubin': 40735,\n",
       " 'gil': 22619,\n",
       " 'luminosity': 30304,\n",
       " 'delicti': 16317,\n",
       " 'yarmulke': 50603,\n",
       " 'sauterne': 41200,\n",
       " 'selfadjoint': 41716,\n",
       " 'agleam': 6303,\n",
       " 'exeter': 20007,\n",
       " 'picofarad': 36418,\n",
       " 'consulate': 14402,\n",
       " 'dichotomous': 16889,\n",
       " 'boyhood': 10547,\n",
       " 'balfour': 8754,\n",
       " 'spheric': 43412,\n",
       " 'frey': 21700,\n",
       " 'pillory': 36479,\n",
       " 'hoosier': 24843,\n",
       " 'fibonacci': 20793,\n",
       " 'cat': 12089,\n",
       " 'handful': 23771,\n",
       " 'tenaska': 45366,\n",
       " 'iv': 26993,\n",
       " 'july': 27812,\n",
       " 'darren': 15822,\n",
       " 'remove': 39603,\n",
       " '384258': 2517,\n",
       " 'enter': 19252,\n",
       " 'demand': 16373,\n",
       " 'fee': 20600,\n",
       " '902': 4718,\n",
       " '687': 3872,\n",
       " '50': 3090,\n",
       " 'thanks': 45575,\n",
       " 'megan': 31416,\n",
       " 'underpriced': 47373,\n",
       " 'issue': 26921,\n",
       " 'dont': 17645,\n",
       " 'sieep': 42405,\n",
       " 'hot': 24919,\n",
       " 'gaming': 22123,\n",
       " 'transaction': 46442,\n",
       " 'ggts': 22559,\n",
       " 'currentiy': 15443,\n",
       " 'trading': 46405,\n",
       " 'rating': 38900,\n",
       " 'strong': 44150,\n",
       " 'near': 33230,\n",
       " 'target': 45092,\n",
       " 'oo': 34702,\n",
       " 'eading': 18270,\n",
       " 'porta': 37063,\n",
       " 'management': 30708,\n",
       " 'pleased': 36721,\n",
       " 'announce': 7228,\n",
       " 'launched': 29066,\n",
       " 'proprietary': 37833,\n",
       " 'portal': 37067,\n",
       " 'furthermore': 21933,\n",
       " 'begun': 9311,\n",
       " 'intensive': 26489,\n",
       " 'marketing': 30897,\n",
       " 'campaign': 11692,\n",
       " 'support': 44523,\n",
       " 'aunch': 8314,\n",
       " 'establish': 19664,\n",
       " 'eader': 18269,\n",
       " 'oniine': 34652,\n",
       " 'game': 22118,\n",
       " 'destination': 16641,\n",
       " 'people': 35932,\n",
       " 'piay': 36389,\n",
       " 'casino': 12060,\n",
       " 'style': 44246,\n",
       " 'win': 49598,\n",
       " 'money': 32352,\n",
       " 'foundation': 21523,\n",
       " 'version': 48239,\n",
       " 'keno': 28158,\n",
       " '80': 4336,\n",
       " 'ball': 8761,\n",
       " 'numbered': 34042,\n",
       " 'draw': 17840,\n",
       " 'bail': 8716,\n",
       " 'random': 38840,\n",
       " 'display': 17228,\n",
       " 'screen': 41463,\n",
       " 'called': 11624,\n",
       " 'board': 10230,\n",
       " 'located': 29886,\n",
       " 'website': 49208,\n",
       " 'object': 34204,\n",
       " 'player': 36693,\n",
       " 'guess': 23470,\n",
       " 'popuiar': 37023,\n",
       " 'inciuding': 25942,\n",
       " 'bingo': 9835,\n",
       " 'poker': 36902,\n",
       " 'blackjack': 9984,\n",
       " 'slot': 42798,\n",
       " 'video': 48370,\n",
       " 'tabie': 44912,\n",
       " 'patrick': 35681,\n",
       " 'smyth': 42922,\n",
       " 'ceo': 12407,\n",
       " 'remarked': 39559,\n",
       " 'deveioped': 16710,\n",
       " 'foresight': 21421,\n",
       " 'create': 15065,\n",
       " 'friendly': 21718,\n",
       " 'experience': 20091,\n",
       " 'loading': 29862,\n",
       " 'multipie': 32795,\n",
       " 'layer': 29116,\n",
       " 'redundancy': 39284,\n",
       " 'spent': 43406,\n",
       " 'necessary': 33250,\n",
       " 'resource': 39848,\n",
       " 'test': 45461,\n",
       " 'ensure': 19243,\n",
       " 'functionality': 21890,\n",
       " 'consumer': 14412,\n",
       " 'focus': 21282,\n",
       " 'group': 23344,\n",
       " 'deveiopment': 16714,\n",
       " 'sure': 44555,\n",
       " 'opulent': 34837,\n",
       " 'effort': 18584,\n",
       " 'wi': 49491,\n",
       " 'aimed': 6399,\n",
       " 'deveioper': 16711,\n",
       " 'entertainment': 19265,\n",
       " 'centrum': 12404,\n",
       " 'gambling': 22116,\n",
       " 'property': 37817,\n",
       " 'fixture': 21044,\n",
       " 'ocated': 34259,\n",
       " 'piayer': 36390,\n",
       " 'gambiing': 22112,\n",
       " 'said': 40961,\n",
       " 'fastest': 20462,\n",
       " 'growing': 23351,\n",
       " 'electronic': 18782,\n",
       " 'forecast': 21401,\n",
       " '14': 990,\n",
       " 'biliion': 9788,\n",
       " '2006': 1480,\n",
       " 'market': 30891,\n",
       " 'statistic': 43806,\n",
       " 'informa': 26214,\n",
       " 'medium': 31372,\n",
       " 'grp': 23357,\n",
       " 'giobal': 22657,\n",
       " '52': 3220,\n",
       " 'bi': 9705,\n",
       " 'ion': 26735,\n",
       " '81': 4378,\n",
       " 'biilion': 9770,\n",
       " 'according': 5683,\n",
       " 'generate': 22383,\n",
       " '24': 1712,\n",
       " 'percent': 35947,\n",
       " 'europe': 19785,\n",
       " 'wil': 49541,\n",
       " '53': 3254,\n",
       " '99': 5363,\n",
       " '85': 4520,\n",
       " 'grow': 23350,\n",
       " '29': 1981,\n",
       " 'billion': 9803,\n",
       " '64': 3694,\n",
       " 'smailer': 42837,\n",
       " 'asia': 7950,\n",
       " 'pacific': 35311,\n",
       " '379': 2491,\n",
       " 'miliion': 31860,\n",
       " 'worid': 49896,\n",
       " '143': 1028,\n",
       " '886': 4651,\n",
       " 'mi': 31730,\n",
       " 'highest': 24466,\n",
       " 'grossing': 23333,\n",
       " 'government': 23070,\n",
       " 'body': 10267,\n",
       " 'pubiic': 38043,\n",
       " 'corporation': 14710,\n",
       " 'quick': 38584,\n",
       " 'profitabie': 37716,\n",
       " 'gambiers': 22110,\n",
       " 'excitement': 19955,\n",
       " 'lottery': 30087,\n",
       " 'wait': 48902,\n",
       " 'weekiy': 49231,\n",
       " 'offering': 34380,\n",
       " 'combining': 13789,\n",
       " 'sophisticated': 43197,\n",
       " 'cutting': 15512,\n",
       " 'edge': 18456,\n",
       " 'encryption': 19092,\n",
       " 'decryption': 16154,\n",
       " 'technique': 45247,\n",
       " 'icensed': 25403,\n",
       " 'optimum': 34824,\n",
       " 'method': 31646,\n",
       " 'pians': 36384,\n",
       " 'historica': 24563,\n",
       " 'ooking': 34711,\n",
       " 'couid': 14824,\n",
       " 'materia': 31024,\n",
       " 'avaiiabie': 8419,\n",
       " 'factor': 20319,\n",
       " 'actua': 5849,\n",
       " 'resuits': 39911,\n",
       " 'prospect': 37852,\n",
       " 'opportunity': 34788,\n",
       " 'materialiy': 31028,\n",
       " 'expressed': 20164,\n",
       " 'impiied': 25778,\n",
       " 'microcap': 31754,\n",
       " 'additiona': 5913,\n",
       " 'raise': 38789,\n",
       " 'doubt': 17724,\n",
       " 'concern': 14093,\n",
       " 'reporting': 39713,\n",
       " 'imited': 25700,\n",
       " ...}"
      ]
     },
     "execution_count": 30,
     "metadata": {},
     "output_type": "execute_result"
    }
   ],
   "source": [
    "Cv.vocabulary_"
   ]
  },
  {
   "cell_type": "code",
   "execution_count": 32,
   "id": "c88b7fa5",
   "metadata": {},
   "outputs": [
    {
     "data": {
      "text/plain": [
       "array([[1, 0, 0, ..., 0, 0, 0],\n",
       "       [0, 0, 0, ..., 0, 0, 0],\n",
       "       [0, 0, 0, ..., 0, 0, 0],\n",
       "       ...,\n",
       "       [0, 0, 0, ..., 0, 0, 0],\n",
       "       [0, 0, 0, ..., 0, 0, 0],\n",
       "       [0, 0, 0, ..., 0, 0, 0]], dtype=int64)"
      ]
     },
     "execution_count": 32,
     "metadata": {},
     "output_type": "execute_result"
    }
   ],
   "source": [
    "Cv_text"
   ]
  },
  {
   "cell_type": "markdown",
   "id": "c7379952",
   "metadata": {},
   "source": [
    "# Spliting Data in x & y\n"
   ]
  },
  {
   "cell_type": "code",
   "execution_count": 34,
   "id": "537df660",
   "metadata": {},
   "outputs": [],
   "source": [
    "x_Cv=Cv_text"
   ]
  },
  {
   "cell_type": "code",
   "execution_count": 35,
   "id": "58a4e20d",
   "metadata": {},
   "outputs": [],
   "source": [
    "y_Cv=Data['Target']"
   ]
  },
  {
   "cell_type": "code",
   "execution_count": 36,
   "id": "2fca0489",
   "metadata": {},
   "outputs": [],
   "source": [
    "x_train_Cv,x_test_Cv,y_train_Cv,y_test_Cv=train_test_split(x_Cv,y_Cv,train_size=0.7,random_state=50)"
   ]
  },
  {
   "cell_type": "markdown",
   "id": "53dc4329",
   "metadata": {},
   "source": [
    "# TF-IDF Vectoriztion"
   ]
  },
  {
   "cell_type": "code",
   "execution_count": 37,
   "id": "e8ae88eb",
   "metadata": {},
   "outputs": [],
   "source": [
    "TF=TfidfVectorizer(stop_words='english')"
   ]
  },
  {
   "cell_type": "code",
   "execution_count": 38,
   "id": "ff12246c",
   "metadata": {},
   "outputs": [],
   "source": [
    "TF_text=TF.fit_transform(Data['Processed_Text']).toarray()"
   ]
  },
  {
   "cell_type": "code",
   "execution_count": 39,
   "id": "e256cc99",
   "metadata": {},
   "outputs": [
    {
     "data": {
      "text/plain": [
       "array([[0.11566511, 0.        , 0.        , ..., 0.        , 0.        ,\n",
       "        0.        ],\n",
       "       [0.        , 0.        , 0.        , ..., 0.        , 0.        ,\n",
       "        0.        ],\n",
       "       [0.        , 0.        , 0.        , ..., 0.        , 0.        ,\n",
       "        0.        ],\n",
       "       ...,\n",
       "       [0.        , 0.        , 0.        , ..., 0.        , 0.        ,\n",
       "        0.        ],\n",
       "       [0.        , 0.        , 0.        , ..., 0.        , 0.        ,\n",
       "        0.        ],\n",
       "       [0.        , 0.        , 0.        , ..., 0.        , 0.        ,\n",
       "        0.        ]])"
      ]
     },
     "execution_count": 39,
     "metadata": {},
     "output_type": "execute_result"
    }
   ],
   "source": [
    "TF_text"
   ]
  },
  {
   "cell_type": "markdown",
   "id": "e1eccfab",
   "metadata": {},
   "source": [
    "# Spliting Data in  x & y"
   ]
  },
  {
   "cell_type": "code",
   "execution_count": 40,
   "id": "f85936af",
   "metadata": {},
   "outputs": [],
   "source": [
    "x_TF=TF_text"
   ]
  },
  {
   "cell_type": "code",
   "execution_count": 41,
   "id": "941fcaf3",
   "metadata": {},
   "outputs": [],
   "source": [
    "y_TF=Data['Target']"
   ]
  },
  {
   "cell_type": "code",
   "execution_count": 42,
   "id": "5b8639f6",
   "metadata": {},
   "outputs": [],
   "source": [
    "x_train_TF,x_test_TF,y_train_TF,y_test_TF=train_test_split(x_TF,y_TF,train_size=0.7,random_state=50)"
   ]
  },
  {
   "cell_type": "code",
   "execution_count": null,
   "id": "c1187a23",
   "metadata": {},
   "outputs": [],
   "source": []
  },
  {
   "cell_type": "markdown",
   "id": "d84e22df",
   "metadata": {},
   "source": [
    "# Model_Selection Based Count_Vectrizer"
   ]
  },
  {
   "cell_type": "code",
   "execution_count": 43,
   "id": "4330e68e",
   "metadata": {},
   "outputs": [],
   "source": [
    "from sklearn.linear_model import LogisticRegression\n",
    "Log=LogisticRegression()"
   ]
  },
  {
   "cell_type": "code",
   "execution_count": 44,
   "id": "811c029d",
   "metadata": {},
   "outputs": [
    {
     "data": {
      "text/html": [
       "<style>#sk-container-id-1 {color: black;background-color: white;}#sk-container-id-1 pre{padding: 0;}#sk-container-id-1 div.sk-toggleable {background-color: white;}#sk-container-id-1 label.sk-toggleable__label {cursor: pointer;display: block;width: 100%;margin-bottom: 0;padding: 0.3em;box-sizing: border-box;text-align: center;}#sk-container-id-1 label.sk-toggleable__label-arrow:before {content: \"▸\";float: left;margin-right: 0.25em;color: #696969;}#sk-container-id-1 label.sk-toggleable__label-arrow:hover:before {color: black;}#sk-container-id-1 div.sk-estimator:hover label.sk-toggleable__label-arrow:before {color: black;}#sk-container-id-1 div.sk-toggleable__content {max-height: 0;max-width: 0;overflow: hidden;text-align: left;background-color: #f0f8ff;}#sk-container-id-1 div.sk-toggleable__content pre {margin: 0.2em;color: black;border-radius: 0.25em;background-color: #f0f8ff;}#sk-container-id-1 input.sk-toggleable__control:checked~div.sk-toggleable__content {max-height: 200px;max-width: 100%;overflow: auto;}#sk-container-id-1 input.sk-toggleable__control:checked~label.sk-toggleable__label-arrow:before {content: \"▾\";}#sk-container-id-1 div.sk-estimator input.sk-toggleable__control:checked~label.sk-toggleable__label {background-color: #d4ebff;}#sk-container-id-1 div.sk-label input.sk-toggleable__control:checked~label.sk-toggleable__label {background-color: #d4ebff;}#sk-container-id-1 input.sk-hidden--visually {border: 0;clip: rect(1px 1px 1px 1px);clip: rect(1px, 1px, 1px, 1px);height: 1px;margin: -1px;overflow: hidden;padding: 0;position: absolute;width: 1px;}#sk-container-id-1 div.sk-estimator {font-family: monospace;background-color: #f0f8ff;border: 1px dotted black;border-radius: 0.25em;box-sizing: border-box;margin-bottom: 0.5em;}#sk-container-id-1 div.sk-estimator:hover {background-color: #d4ebff;}#sk-container-id-1 div.sk-parallel-item::after {content: \"\";width: 100%;border-bottom: 1px solid gray;flex-grow: 1;}#sk-container-id-1 div.sk-label:hover label.sk-toggleable__label {background-color: #d4ebff;}#sk-container-id-1 div.sk-serial::before {content: \"\";position: absolute;border-left: 1px solid gray;box-sizing: border-box;top: 0;bottom: 0;left: 50%;z-index: 0;}#sk-container-id-1 div.sk-serial {display: flex;flex-direction: column;align-items: center;background-color: white;padding-right: 0.2em;padding-left: 0.2em;position: relative;}#sk-container-id-1 div.sk-item {position: relative;z-index: 1;}#sk-container-id-1 div.sk-parallel {display: flex;align-items: stretch;justify-content: center;background-color: white;position: relative;}#sk-container-id-1 div.sk-item::before, #sk-container-id-1 div.sk-parallel-item::before {content: \"\";position: absolute;border-left: 1px solid gray;box-sizing: border-box;top: 0;bottom: 0;left: 50%;z-index: -1;}#sk-container-id-1 div.sk-parallel-item {display: flex;flex-direction: column;z-index: 1;position: relative;background-color: white;}#sk-container-id-1 div.sk-parallel-item:first-child::after {align-self: flex-end;width: 50%;}#sk-container-id-1 div.sk-parallel-item:last-child::after {align-self: flex-start;width: 50%;}#sk-container-id-1 div.sk-parallel-item:only-child::after {width: 0;}#sk-container-id-1 div.sk-dashed-wrapped {border: 1px dashed gray;margin: 0 0.4em 0.5em 0.4em;box-sizing: border-box;padding-bottom: 0.4em;background-color: white;}#sk-container-id-1 div.sk-label label {font-family: monospace;font-weight: bold;display: inline-block;line-height: 1.2em;}#sk-container-id-1 div.sk-label-container {text-align: center;}#sk-container-id-1 div.sk-container {/* jupyter's `normalize.less` sets `[hidden] { display: none; }` but bootstrap.min.css set `[hidden] { display: none !important; }` so we also need the `!important` here to be able to override the default hidden behavior on the sphinx rendered scikit-learn.org. See: https://github.com/scikit-learn/scikit-learn/issues/21755 */display: inline-block !important;position: relative;}#sk-container-id-1 div.sk-text-repr-fallback {display: none;}</style><div id=\"sk-container-id-1\" class=\"sk-top-container\"><div class=\"sk-text-repr-fallback\"><pre>LogisticRegression()</pre><b>In a Jupyter environment, please rerun this cell to show the HTML representation or trust the notebook. <br />On GitHub, the HTML representation is unable to render, please try loading this page with nbviewer.org.</b></div><div class=\"sk-container\" hidden><div class=\"sk-item\"><div class=\"sk-estimator sk-toggleable\"><input class=\"sk-toggleable__control sk-hidden--visually\" id=\"sk-estimator-id-1\" type=\"checkbox\" checked><label for=\"sk-estimator-id-1\" class=\"sk-toggleable__label sk-toggleable__label-arrow\">LogisticRegression</label><div class=\"sk-toggleable__content\"><pre>LogisticRegression()</pre></div></div></div></div></div>"
      ],
      "text/plain": [
       "LogisticRegression()"
      ]
     },
     "execution_count": 44,
     "metadata": {},
     "output_type": "execute_result"
    }
   ],
   "source": [
    "Log.fit(x_train_Cv,y_train_Cv)"
   ]
  },
  {
   "cell_type": "code",
   "execution_count": 45,
   "id": "6bd7d89b",
   "metadata": {},
   "outputs": [
    {
     "name": "stdout",
     "output_type": "stream",
     "text": [
      "Train_Score_Log: 0.997\n",
      "Test_Score_Log: 0.967\n"
     ]
    }
   ],
   "source": [
    "print('Train_Score_Log:',round(Log.score(x_train_Cv,y_train_Cv),3))\n",
    "print('Test_Score_Log:',round(Log.score(x_test_Cv,y_test_Cv),3))"
   ]
  },
  {
   "cell_type": "code",
   "execution_count": 46,
   "id": "e5b6f3e0",
   "metadata": {},
   "outputs": [],
   "source": [
    "Log_test_pri=Log.predict(x_test_Cv)"
   ]
  },
  {
   "cell_type": "code",
   "execution_count": 47,
   "id": "585a341f",
   "metadata": {},
   "outputs": [],
   "source": [
    "from sklearn.metrics import confusion_matrix,classification_report"
   ]
  },
  {
   "cell_type": "code",
   "execution_count": 48,
   "id": "b9592d78",
   "metadata": {},
   "outputs": [
    {
     "name": "stdout",
     "output_type": "stream",
     "text": [
      "[[2374   26]\n",
      " [  74  575]]\n"
     ]
    }
   ],
   "source": [
    "print(confusion_matrix(y_test_Cv,Log_test_pri))"
   ]
  },
  {
   "cell_type": "code",
   "execution_count": 49,
   "id": "a774cbde",
   "metadata": {},
   "outputs": [
    {
     "name": "stdout",
     "output_type": "stream",
     "text": [
      "              precision    recall  f1-score   support\n",
      "\n",
      "           0       0.97      0.99      0.98      2400\n",
      "           1       0.96      0.89      0.92       649\n",
      "\n",
      "    accuracy                           0.97      3049\n",
      "   macro avg       0.96      0.94      0.95      3049\n",
      "weighted avg       0.97      0.97      0.97      3049\n",
      "\n"
     ]
    }
   ],
   "source": [
    "print(classification_report(y_test_Cv,Log_test_pri))"
   ]
  },
  {
   "cell_type": "code",
   "execution_count": 50,
   "id": "16c4582f",
   "metadata": {},
   "outputs": [
    {
     "data": {
      "text/plain": [
       "\"1='spam'\""
      ]
     },
     "execution_count": 50,
     "metadata": {},
     "output_type": "execute_result"
    }
   ],
   "source": [
    "\"0='not_spam'\"\n",
    "\"1='spam'\""
   ]
  },
  {
   "cell_type": "code",
   "execution_count": 61,
   "id": "4966e1e3",
   "metadata": {},
   "outputs": [],
   "source": [
    "def Spam_Detection(text):\n",
    "    text=Text_processing(text)\n",
    "    text=\" \".join(text)\n",
    "    Vector=Cv.transform([text]).toarray()\n",
    "    result=Log.predict(Vector)\n",
    "    if(result==0):\n",
    "        return '** Not_Spam **'\n",
    "    else:\n",
    "        return '** Spam **'\n",
    "        "
   ]
  },
  {
   "cell_type": "code",
   "execution_count": 62,
   "id": "96f7f577",
   "metadata": {},
   "outputs": [],
   "source": [
    "Log_test_pri='Congratulations! You’re being offered a no-interest Visa credit card. Click here to claim: https://bit.ly/07tjA786'\n",
    "\n"
   ]
  },
  {
   "cell_type": "code",
   "execution_count": 63,
   "id": "27eaa66e",
   "metadata": {},
   "outputs": [],
   "source": [
    "Log_test_pri=\"Hi This is to confirm that we have received your email and our Learner Success Manager will get back to you with an appropriate resolution.We appreciate you reaching us and we will get back to you at the earliest. In the meantime, you can visit Simplilearn Community Forum and engage with our customers & experts for your learning needs.Your ticket number for this interaction is 01397664.\""
   ]
  },
  {
   "cell_type": "code",
   "execution_count": 64,
   "id": "54e838cf",
   "metadata": {},
   "outputs": [
    {
     "data": {
      "text/plain": [
       "'** Not_Spam **'"
      ]
     },
     "execution_count": 64,
     "metadata": {},
     "output_type": "execute_result"
    }
   ],
   "source": [
    "T=Spam_Detection(Log_test_pri)\n",
    "T"
   ]
  },
  {
   "cell_type": "markdown",
   "id": "4313533e",
   "metadata": {},
   "source": [
    "# Saving two Model"
   ]
  },
  {
   "cell_type": "markdown",
   "id": "693a4430",
   "metadata": {},
   "source": [
    "# 1)Cv   2)Log"
   ]
  },
  {
   "cell_type": "code",
   "execution_count": 65,
   "id": "50c054aa",
   "metadata": {},
   "outputs": [],
   "source": [
    "import pickle"
   ]
  },
  {
   "cell_type": "code",
   "execution_count": 66,
   "id": "4bdb1d6f",
   "metadata": {},
   "outputs": [],
   "source": [
    "pickle.dump([Cv,Log],open('Spam_Mail_Detection','wb'))"
   ]
  },
  {
   "cell_type": "code",
   "execution_count": 68,
   "id": "9248a9e9",
   "metadata": {},
   "outputs": [],
   "source": [
    "import os as os"
   ]
  },
  {
   "cell_type": "code",
   "execution_count": 127,
   "id": "b4271a80",
   "metadata": {},
   "outputs": [
    {
     "data": {
      "text/plain": [
       "'C:\\\\Users\\\\Ashish_Parulekar\\\\PYTHON_FILES\\\\Spam_text_detection'"
      ]
     },
     "execution_count": 127,
     "metadata": {},
     "output_type": "execute_result"
    }
   ],
   "source": [
    "os.getcwd()"
   ]
  },
  {
   "cell_type": "code",
   "execution_count": 111,
   "id": "d6ab881e",
   "metadata": {},
   "outputs": [],
   "source": [
    "text=\" \".join(T)"
   ]
  },
  {
   "cell_type": "code",
   "execution_count": 112,
   "id": "2487fabe",
   "metadata": {},
   "outputs": [
    {
     "data": {
      "text/plain": [
       "'’ issue payment information recent order yq-885629 take action http //bit.ly/hp187ty19'"
      ]
     },
     "execution_count": 112,
     "metadata": {},
     "output_type": "execute_result"
    }
   ],
   "source": [
    "text"
   ]
  },
  {
   "cell_type": "code",
   "execution_count": 114,
   "id": "4a4a203e",
   "metadata": {},
   "outputs": [],
   "source": [
    " Vector=Cv.transform([text]).toarray()"
   ]
  },
  {
   "cell_type": "code",
   "execution_count": 115,
   "id": "8e46c66f",
   "metadata": {},
   "outputs": [
    {
     "data": {
      "text/plain": [
       "2"
      ]
     },
     "execution_count": 115,
     "metadata": {},
     "output_type": "execute_result"
    }
   ],
   "source": [
    " Vector.ndim"
   ]
  },
  {
   "cell_type": "code",
   "execution_count": 119,
   "id": "d05bde84",
   "metadata": {},
   "outputs": [],
   "source": [
    "result=Log.predict(Vector)"
   ]
  },
  {
   "cell_type": "code",
   "execution_count": 120,
   "id": "758dfddb",
   "metadata": {},
   "outputs": [],
   "source": [
    "check=Spam_Detection(Log_test_pri)"
   ]
  },
  {
   "cell_type": "code",
   "execution_count": 121,
   "id": "2d482caa",
   "metadata": {},
   "outputs": [
    {
     "data": {
      "text/plain": [
       "'Spam'"
      ]
     },
     "execution_count": 121,
     "metadata": {},
     "output_type": "execute_result"
    }
   ],
   "source": [
    "check"
   ]
  },
  {
   "cell_type": "code",
   "execution_count": null,
   "id": "0189ac85",
   "metadata": {},
   "outputs": [],
   "source": []
  }
 ],
 "metadata": {
  "kernelspec": {
   "display_name": "Python 3 (ipykernel)",
   "language": "python",
   "name": "python3"
  },
  "language_info": {
   "codemirror_mode": {
    "name": "ipython",
    "version": 3
   },
   "file_extension": ".py",
   "mimetype": "text/x-python",
   "name": "python",
   "nbconvert_exporter": "python",
   "pygments_lexer": "ipython3",
   "version": "3.9.7"
  }
 },
 "nbformat": 4,
 "nbformat_minor": 5
}
